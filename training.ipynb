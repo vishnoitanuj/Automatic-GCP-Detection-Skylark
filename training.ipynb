{
 "cells": [
  {
   "cell_type": "code",
   "execution_count": 18,
   "metadata": {},
   "outputs": [],
   "source": [
    "import cv2\n",
    "import numpy as np\n",
    "import os\n",
    "from random import shuffle\n",
    "from tqdm import tqdm\n",
    "import tensorflow as tf\n",
    "import matplotlib.pyplot as plt\n",
    "%matplotlib inline"
   ]
  },
  {
   "cell_type": "code",
   "execution_count": 19,
   "metadata": {},
   "outputs": [],
   "source": [
    "train_data = 'data/train'\n",
    "test_data = 'data/test'"
   ]
  },
  {
   "cell_type": "code",
   "execution_count": 20,
   "metadata": {},
   "outputs": [],
   "source": [
    "def one_hot_label(label):\n",
    "    if label=='1':\n",
    "        ohl = np.array([1,0])\n",
    "    elif label == '0':\n",
    "        ohl = np.array([0,1])\n",
    "    return ohl "
   ]
  },
  {
   "cell_type": "code",
   "execution_count": 21,
   "metadata": {},
   "outputs": [],
   "source": [
    "def train_data_with_labels():\n",
    "    train_images = []\n",
    "    for dir in os.listdir('data/train'):\n",
    "        label=str(dir)\n",
    "        print(label)\n",
    "        dir = os.path.join(os.getcwd(),os.path.join('data/train',dir))\n",
    "        for img in os.listdir(dir):\n",
    "            path = os.path.join(dir,img)\n",
    "            img = cv2.imread(path, cv2.IMREAD_GRAYSCALE)\n",
    "            img = cv2.resize(img, (28,28))\n",
    "            train_images.append([np.array(img), one_hot_label(label)])\n",
    "    shuffle(train_images)\n",
    "    return train_images        "
   ]
  },
  {
   "cell_type": "code",
   "execution_count": 22,
   "metadata": {},
   "outputs": [],
   "source": [
    "def test_data_with_labels():\n",
    "    test_images = []\n",
    "    for dir in os.listdir('data/test'):\n",
    "        label=str(dir)\n",
    "        print(label)\n",
    "        dir = os.path.join(os.getcwd(),os.path.join('data/test',dir))\n",
    "        for img in os.listdir(dir):\n",
    "            path = os.path.join(dir,img)\n",
    "            img = cv2.imread(path, cv2.IMREAD_GRAYSCALE)\n",
    "            img = cv2.resize(img, (28,28))\n",
    "            test_images.append([np.array(img), one_hot_label(label)])\n",
    "    shuffle(test_images)\n",
    "    return test_images        "
   ]
  },
  {
   "cell_type": "code",
   "execution_count": 23,
   "metadata": {},
   "outputs": [],
   "source": [
    "from keras.models import Sequential\n",
    "from keras.layers import *\n",
    "from keras.optimizers import *"
   ]
  },
  {
   "cell_type": "code",
   "execution_count": 24,
   "metadata": {},
   "outputs": [
    {
     "name": "stdout",
     "output_type": "stream",
     "text": [
      "0\n",
      "1\n",
      "0\n",
      "1\n"
     ]
    }
   ],
   "source": [
    "training_images = train_data_with_labels()\n",
    "testing_images = test_data_with_labels()\n",
    "tr_img_data = np.array([i[0] for i in training_images]).reshape(-1,28,28,1)\n",
    "tr_lbl_data = np.array([i[1] for i in training_images])\n",
    "tst_img_data = np.array([i[0] for i in testing_images]).reshape(-1,28,28,1)\n",
    "tst_lbl_data = np.array([i[1] for i in testing_images])"
   ]
  },
  {
   "cell_type": "code",
   "execution_count": 25,
   "metadata": {},
   "outputs": [
    {
     "name": "stderr",
     "output_type": "stream",
     "text": [
      "/home/vishnoitanuj/miniconda3/envs/CV/lib/python3.5/site-packages/ipykernel_launcher.py:5: UserWarning: Update your `MaxPooling2D` call to the Keras 2 API: `MaxPooling2D(data_format=\"channels_first\", pool_size=5, padding=\"same\")`\n",
      "  \"\"\"\n",
      "/home/vishnoitanuj/miniconda3/envs/CV/lib/python3.5/site-packages/ipykernel_launcher.py:8: UserWarning: Update your `MaxPooling2D` call to the Keras 2 API: `MaxPooling2D(data_format=\"channels_first\", pool_size=5, padding=\"same\")`\n",
      "  \n",
      "/home/vishnoitanuj/miniconda3/envs/CV/lib/python3.5/site-packages/ipykernel_launcher.py:11: UserWarning: Update your `MaxPooling2D` call to the Keras 2 API: `MaxPooling2D(data_format=\"channels_first\", pool_size=5, padding=\"same\")`\n",
      "  # This is added back by InteractiveShellApp.init_path()\n",
      "/home/vishnoitanuj/miniconda3/envs/CV/lib/python3.5/site-packages/ipykernel_launcher.py:14: UserWarning: Update your `MaxPooling2D` call to the Keras 2 API: `MaxPooling2D(data_format=\"channels_first\", pool_size=5, padding=\"same\")`\n",
      "  \n",
      "/home/vishnoitanuj/miniconda3/envs/CV/lib/python3.5/site-packages/ipykernel_launcher.py:17: UserWarning: Update your `MaxPooling2D` call to the Keras 2 API: `MaxPooling2D(data_format=\"channels_first\", pool_size=5, padding=\"same\")`\n"
     ]
    },
    {
     "name": "stdout",
     "output_type": "stream",
     "text": [
      "Epoch 1/70\n",
      "478/478 [==============================] - 1s 2ms/step - loss: 2.5525 - acc: 0.5272\n",
      "Epoch 2/70\n",
      "478/478 [==============================] - 0s 708us/step - loss: 0.7404 - acc: 0.5293\n",
      "Epoch 3/70\n",
      "478/478 [==============================] - 0s 747us/step - loss: 0.5194 - acc: 0.7678\n",
      "Epoch 4/70\n",
      "478/478 [==============================] - 0s 719us/step - loss: 0.2687 - acc: 0.8975\n",
      "Epoch 5/70\n",
      "478/478 [==============================] - 0s 725us/step - loss: 0.1399 - acc: 0.9435\n",
      "Epoch 6/70\n",
      "478/478 [==============================] - 0s 734us/step - loss: 0.1260 - acc: 0.9561\n",
      "Epoch 7/70\n",
      "478/478 [==============================] - 0s 912us/step - loss: 0.0947 - acc: 0.9623\n",
      "Epoch 8/70\n",
      "478/478 [==============================] - 0s 760us/step - loss: 0.0764 - acc: 0.9623\n",
      "Epoch 9/70\n",
      "478/478 [==============================] - 0s 791us/step - loss: 0.0578 - acc: 0.9833\n",
      "Epoch 10/70\n",
      "478/478 [==============================] - 0s 773us/step - loss: 0.0228 - acc: 0.9937\n",
      "Epoch 11/70\n",
      "478/478 [==============================] - 0s 761us/step - loss: 0.0195 - acc: 0.9937\n",
      "Epoch 12/70\n",
      "478/478 [==============================] - 0s 695us/step - loss: 0.0583 - acc: 0.9833\n",
      "Epoch 13/70\n",
      "478/478 [==============================] - 0s 734us/step - loss: 0.0400 - acc: 0.9874\n",
      "Epoch 14/70\n",
      "478/478 [==============================] - 0s 719us/step - loss: 0.0346 - acc: 0.9854\n",
      "Epoch 15/70\n",
      "478/478 [==============================] - 0s 692us/step - loss: 0.0411 - acc: 0.9812\n",
      "Epoch 16/70\n",
      "478/478 [==============================] - 0s 746us/step - loss: 0.0394 - acc: 0.9874\n",
      "Epoch 17/70\n",
      "478/478 [==============================] - 0s 928us/step - loss: 0.0334 - acc: 0.9895\n",
      "Epoch 18/70\n",
      "478/478 [==============================] - 0s 855us/step - loss: 0.0220 - acc: 0.9958\n",
      "Epoch 19/70\n",
      "478/478 [==============================] - 0s 805us/step - loss: 0.0117 - acc: 0.9979\n",
      "Epoch 20/70\n",
      "478/478 [==============================] - 0s 765us/step - loss: 0.0056 - acc: 1.0000\n",
      "Epoch 21/70\n",
      "478/478 [==============================] - 0s 727us/step - loss: 0.0082 - acc: 0.9958\n",
      "Epoch 22/70\n",
      "478/478 [==============================] - 0s 770us/step - loss: 0.0079 - acc: 0.9958\n",
      "Epoch 23/70\n",
      "478/478 [==============================] - 0s 871us/step - loss: 0.0112 - acc: 0.9958\n",
      "Epoch 24/70\n",
      "478/478 [==============================] - 0s 862us/step - loss: 0.0101 - acc: 0.9958\n",
      "Epoch 25/70\n",
      "478/478 [==============================] - 0s 813us/step - loss: 0.0114 - acc: 0.9958\n",
      "Epoch 26/70\n",
      "478/478 [==============================] - 0s 798us/step - loss: 0.0318 - acc: 0.9937\n",
      "Epoch 27/70\n",
      "478/478 [==============================] - 0s 786us/step - loss: 0.0154 - acc: 0.9958\n",
      "Epoch 28/70\n",
      "478/478 [==============================] - 0s 824us/step - loss: 0.0059 - acc: 0.9979\n",
      "Epoch 29/70\n",
      "478/478 [==============================] - 0s 766us/step - loss: 0.0087 - acc: 0.9958\n",
      "Epoch 30/70\n",
      "478/478 [==============================] - 0s 807us/step - loss: 0.0099 - acc: 0.9958\n",
      "Epoch 31/70\n",
      "478/478 [==============================] - 0s 927us/step - loss: 0.0060 - acc: 0.9979\n",
      "Epoch 32/70\n",
      "478/478 [==============================] - 0s 868us/step - loss: 0.0020 - acc: 1.0000\n",
      "Epoch 33/70\n",
      "478/478 [==============================] - 0s 831us/step - loss: 0.0020 - acc: 1.0000\n",
      "Epoch 34/70\n",
      "478/478 [==============================] - 0s 854us/step - loss: 0.0015 - acc: 1.0000\n",
      "Epoch 35/70\n",
      "478/478 [==============================] - 0s 804us/step - loss: 0.0023 - acc: 0.9979\n",
      "Epoch 36/70\n",
      "478/478 [==============================] - 0s 816us/step - loss: 5.0718e-04 - acc: 1.0000\n",
      "Epoch 37/70\n",
      "478/478 [==============================] - 0s 760us/step - loss: 2.9126e-04 - acc: 1.0000\n",
      "Epoch 38/70\n",
      "478/478 [==============================] - 0s 792us/step - loss: 3.9052e-04 - acc: 1.0000\n",
      "Epoch 39/70\n",
      "478/478 [==============================] - 0s 702us/step - loss: 0.0029 - acc: 0.9979\n",
      "Epoch 40/70\n",
      "478/478 [==============================] - 0s 737us/step - loss: 5.1517e-04 - acc: 1.0000\n",
      "Epoch 41/70\n",
      "478/478 [==============================] - 0s 753us/step - loss: 0.0014 - acc: 1.0000\n",
      "Epoch 42/70\n",
      "478/478 [==============================] - 0s 773us/step - loss: 5.1444e-04 - acc: 1.0000\n",
      "Epoch 43/70\n",
      "478/478 [==============================] - 0s 872us/step - loss: 7.7210e-04 - acc: 1.0000\n",
      "Epoch 44/70\n",
      "478/478 [==============================] - 0s 814us/step - loss: 1.7650e-04 - acc: 1.0000\n",
      "Epoch 45/70\n",
      "478/478 [==============================] - 0s 804us/step - loss: 1.0017e-04 - acc: 1.0000\n",
      "Epoch 46/70\n",
      "478/478 [==============================] - 0s 853us/step - loss: 1.1565e-04 - acc: 1.0000\n",
      "Epoch 47/70\n",
      "478/478 [==============================] - 0s 845us/step - loss: 5.7913e-04 - acc: 1.0000\n",
      "Epoch 48/70\n",
      "478/478 [==============================] - 0s 768us/step - loss: 3.0943e-04 - acc: 1.0000\n",
      "Epoch 49/70\n",
      "478/478 [==============================] - 0s 857us/step - loss: 0.0016 - acc: 1.0000\n",
      "Epoch 50/70\n",
      "478/478 [==============================] - 0s 790us/step - loss: 5.3327e-04 - acc: 1.0000\n",
      "Epoch 51/70\n",
      "478/478 [==============================] - 0s 825us/step - loss: 1.2484e-04 - acc: 1.0000\n",
      "Epoch 52/70\n",
      "478/478 [==============================] - 0s 870us/step - loss: 1.8835e-04 - acc: 1.0000\n",
      "Epoch 53/70\n",
      "478/478 [==============================] - 0s 804us/step - loss: 1.2340e-04 - acc: 1.0000\n",
      "Epoch 54/70\n",
      "478/478 [==============================] - 0s 809us/step - loss: 1.3628e-04 - acc: 1.0000\n",
      "Epoch 55/70\n",
      "478/478 [==============================] - 0s 695us/step - loss: 2.3974e-04 - acc: 1.0000\n",
      "Epoch 56/70\n",
      "478/478 [==============================] - 0s 743us/step - loss: 3.7061e-04 - acc: 1.0000\n",
      "Epoch 57/70\n",
      "478/478 [==============================] - 0s 713us/step - loss: 1.2958e-04 - acc: 1.0000\n",
      "Epoch 58/70\n",
      "478/478 [==============================] - 0s 752us/step - loss: 5.0367e-05 - acc: 1.0000\n",
      "Epoch 59/70\n",
      "478/478 [==============================] - 0s 689us/step - loss: 2.7723e-05 - acc: 1.0000\n",
      "Epoch 60/70\n",
      "478/478 [==============================] - 0s 715us/step - loss: 1.2875e-04 - acc: 1.0000\n",
      "Epoch 61/70\n",
      "478/478 [==============================] - 0s 709us/step - loss: 2.3455e-05 - acc: 1.0000\n",
      "Epoch 62/70\n",
      "478/478 [==============================] - 0s 741us/step - loss: 4.9958e-05 - acc: 1.0000\n",
      "Epoch 63/70\n",
      "478/478 [==============================] - 0s 821us/step - loss: 1.1608e-04 - acc: 1.0000\n",
      "Epoch 64/70\n",
      "478/478 [==============================] - 0s 753us/step - loss: 2.3732e-04 - acc: 1.0000\n",
      "Epoch 65/70\n",
      "478/478 [==============================] - 0s 772us/step - loss: 4.3382e-05 - acc: 1.0000\n",
      "Epoch 66/70\n",
      "478/478 [==============================] - 0s 754us/step - loss: 1.0889e-04 - acc: 1.0000\n",
      "Epoch 67/70\n",
      "478/478 [==============================] - 0s 711us/step - loss: 1.3132e-04 - acc: 1.0000\n",
      "Epoch 68/70\n",
      "478/478 [==============================] - 0s 695us/step - loss: 2.0617e-05 - acc: 1.0000\n",
      "Epoch 69/70\n",
      "478/478 [==============================] - 0s 709us/step - loss: 5.1926e-05 - acc: 1.0000\n",
      "Epoch 70/70\n",
      "478/478 [==============================] - 0s 731us/step - loss: 4.6057e-05 - acc: 1.0000\n"
     ]
    },
    {
     "data": {
      "text/plain": [
       "<keras.callbacks.History at 0x7f2994274908>"
      ]
     },
     "execution_count": 25,
     "metadata": {},
     "output_type": "execute_result"
    }
   ],
   "source": [
    "model = Sequential()\n",
    "\n",
    "# model.add(InputLayer(input_shape=[28,28,1]))\n",
    "model.add(Conv2D(filters=32, kernel_size=5, strides=1, padding='same', activation='relu',input_shape=(28,28,1)))\n",
    "model.add(MaxPooling2D(pool_size=5, padding='same', dim_ordering=\"th\"))\n",
    "\n",
    "model.add(Conv2D(filters=50, kernel_size=5, strides=1, padding='same', activation='relu'))\n",
    "model.add(MaxPooling2D(pool_size=5, padding='same', dim_ordering=\"th\"))\n",
    "\n",
    "model.add(Conv2D(filters=80, kernel_size=4, strides=1, padding='same', activation='relu'))\n",
    "model.add(MaxPooling2D(pool_size=5, padding='same', dim_ordering=\"th\"))\n",
    "\n",
    "model.add(Conv2D(filters=100, kernel_size=4, strides=1, padding='same', activation='relu'))\n",
    "model.add(MaxPooling2D(pool_size=5, padding='same', dim_ordering=\"th\"))\n",
    "\n",
    "model.add(Conv2D(filters=100, kernel_size=3, strides=1, padding='same', activation='relu'))\n",
    "model.add(MaxPooling2D(pool_size=5, padding='same', dim_ordering=\"th\"))\n",
    "\n",
    "model.add(Dropout(0.5))\n",
    "model.add(Flatten())  # this converts our 3D feature maps to 1D feature vectors\n",
    "model.add(Dense(512, activation='relu'))\n",
    "model.add(Dropout(rate=0.5))\n",
    "model.add(Dense(2, activation='softmax'))\n",
    "optimizer = Adam(lr=1e-3)\n",
    "\n",
    "model.compile(optimizer=optimizer, loss='categorical_crossentropy', metrics=['accuracy'])\n",
    "model.fit(x=tr_img_data, y= tr_lbl_data, epochs=70, batch_size=100)"
   ]
  },
  {
   "cell_type": "code",
   "execution_count": 26,
   "metadata": {},
   "outputs": [
    {
     "name": "stdout",
     "output_type": "stream",
     "text": [
      "_________________________________________________________________\n",
      "Layer (type)                 Output Shape              Param #   \n",
      "=================================================================\n",
      "conv2d_6 (Conv2D)            (None, 28, 28, 32)        832       \n",
      "_________________________________________________________________\n",
      "max_pooling2d_6 (MaxPooling2 (None, 28, 6, 7)          0         \n",
      "_________________________________________________________________\n",
      "conv2d_7 (Conv2D)            (None, 28, 6, 50)         8800      \n",
      "_________________________________________________________________\n",
      "max_pooling2d_7 (MaxPooling2 (None, 28, 2, 10)         0         \n",
      "_________________________________________________________________\n",
      "conv2d_8 (Conv2D)            (None, 28, 2, 80)         12880     \n",
      "_________________________________________________________________\n",
      "max_pooling2d_8 (MaxPooling2 (None, 28, 1, 16)         0         \n",
      "_________________________________________________________________\n",
      "conv2d_9 (Conv2D)            (None, 28, 1, 100)        25700     \n",
      "_________________________________________________________________\n",
      "max_pooling2d_9 (MaxPooling2 (None, 28, 1, 20)         0         \n",
      "_________________________________________________________________\n",
      "conv2d_10 (Conv2D)           (None, 28, 1, 100)        18100     \n",
      "_________________________________________________________________\n",
      "max_pooling2d_10 (MaxPooling (None, 28, 1, 20)         0         \n",
      "_________________________________________________________________\n",
      "dropout_3 (Dropout)          (None, 28, 1, 20)         0         \n",
      "_________________________________________________________________\n",
      "flatten_2 (Flatten)          (None, 560)               0         \n",
      "_________________________________________________________________\n",
      "dense_3 (Dense)              (None, 512)               287232    \n",
      "_________________________________________________________________\n",
      "dropout_4 (Dropout)          (None, 512)               0         \n",
      "_________________________________________________________________\n",
      "dense_4 (Dense)              (None, 2)                 1026      \n",
      "=================================================================\n",
      "Total params: 354,570\n",
      "Trainable params: 354,570\n",
      "Non-trainable params: 0\n",
      "_________________________________________________________________\n"
     ]
    }
   ],
   "source": [
    "model.summary()"
   ]
  },
  {
   "cell_type": "code",
   "execution_count": 29,
   "metadata": {
    "scrolled": true
   },
   "outputs": [
    {
     "data": {
      "image/png": "[encoded data removed]",
      "text/plain": [
       "<Figure size 1008x1008 with 16 Axes>"
      ]
     },
     "metadata": {},
     "output_type": "display_data"
    }
   ],
   "source": [
    "fig = plt.figure(figsize=(14,14))\n",
    "\n",
    "for cnt, data in enumerate(testing_images[0:]):\n",
    "    y = fig.add_subplot(6,5, cnt+1)\n",
    "    img = data[0]\n",
    "    data = img.reshape(1,28,28,1)\n",
    "    model_out = model.predict([data])\n",
    "    \n",
    "    if np.argmax(model_out)==1:\n",
    "        str_label = '0'\n",
    "    else:\n",
    "        str_label = '1'\n",
    "        \n",
    "    y.imshow(img, cmap='gray')\n",
    "    plt.title(str_label)\n",
    "    y.axes.get_xaxis().set_visible(False)\n",
    "    y.axes.get_yaxis().set_visible(False)"
   ]
  },
  {
   "cell_type": "code",
   "execution_count": 27,
   "metadata": {},
   "outputs": [],
   "source": [
    "model.save('model.hdf5')"
   ]
  },
  {
   "cell_type": "markdown",
   "metadata": {},
   "source": [
    "## Plotting bounding box of detected images in 'plot' directory\n",
    "\n",
    "#### For testing purposes only"
   ]
  },
  {
   "cell_type": "code",
   "execution_count": 28,
   "metadata": {},
   "outputs": [],
   "source": [
    "from image_process import (\n",
    "    threshold,\n",
    "    morphology,\n",
    "    find_contours,\n",
    "    extra_contour_elimination,\n",
    "    crop_contour,\n",
    "    req_contour\n",
    ")\n",
    "import csv\n",
    "import os\n",
    "import cv2\n",
    "import numpy as np"
   ]
  },
  {
   "cell_type": "code",
   "execution_count": 45,
   "metadata": {},
   "outputs": [],
   "source": [
    "dest_dir = 'plot'\n",
    "def plot(filename,file):\n",
    "    img = cv2.imread(filename)\n",
    "#     img = cv2.cvtColor(img, cv2.COLOR_BGR2RGB)\n",
    "    clone = img.copy()\n",
    "    thresh = threshold(img)\n",
    "    img, lines = find_contours(thresh)\n",
    "    final_lines = extra_contour_elimination(lines)\n",
    "    req = []\n",
    "    contour = []\n",
    "    for i,line in enumerate(final_lines):\n",
    "        _, L = crop_contour(line,thresh)\n",
    "        img = cv2.resize(L,(28,28))\n",
    "        data = img.reshape(1,28,28,1)\n",
    "        model_out = model.predict([data])\n",
    "\n",
    "        if np.argmax(model_out)==1:\n",
    "            str_label = '0'\n",
    "        else:\n",
    "            str_label = '1'\n",
    "\n",
    "        if str_label=='1':\n",
    "            print(file)\n",
    "            req.append(i)\n",
    "            contour.append([file,line])\n",
    "            name = dest_dir+'/'+file\n",
    "#             print(name)\n",
    "            \n",
    "\n",
    "    for index in req:\n",
    "        rect = cv2.minAreaRect(final_lines[index])\n",
    "        box = cv2.boxPoints(rect)\n",
    "        box = np.int0(box)\n",
    "        cv2.drawContours(clone,[box],0,(0,255,0),2)\n",
    "        cv2.imwrite(name,clone)\n",
    "    return contour"
   ]
  },
  {
   "cell_type": "code",
   "execution_count": 46,
   "metadata": {},
   "outputs": [
    {
     "name": "stdout",
     "output_type": "stream",
     "text": [
      "DSC08876.JPG\n",
      "DJI_0422.JPG\n",
      "DJI_0422.JPG\n",
      "DJI_0083.JPG\n",
      "DJI_0083.JPG\n",
      "DSC01453.JPG\n",
      "M1_F1.3_0405.JPG\n",
      "M1_F1.3_0405.JPG\n",
      "DJI_0617.JPG\n",
      "DJI_0036.JPG\n",
      "DJI_0616.JPG\n",
      "DJI_0086.JPG\n",
      "DJI_0086.JPG\n",
      "DJI_0086.JPG\n",
      "DJI_0086.JPG\n"
     ]
    }
   ],
   "source": [
    "orig_dir = 'CV-Assignment-Dataset'\n",
    "for file in os.listdir(orig_dir):\n",
    "    path = os.path.join(orig_dir,file)\n",
    "    contour = plot(path,file)"
   ]
  }
 ],
 "metadata": {
  "kernelspec": {
   "display_name": "Python 3",
   "language": "python",
   "name": "python3"
  },
  "language_info": {
   "codemirror_mode": {
    "name": "ipython",
    "version": 3
   },
   "file_extension": ".py",
   "mimetype": "text/x-python",
   "name": "python",
   "nbconvert_exporter": "python",
   "pygments_lexer": "ipython3",
   "version": "3.5.5"
  }
 },
 "nbformat": 4,
 "nbformat_minor": 2
}
