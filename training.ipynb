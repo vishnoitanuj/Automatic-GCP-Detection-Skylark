{
 "cells": [
  {
   "cell_type": "code",
   "execution_count": 40,
   "metadata": {},
   "outputs": [],
   "source": [
    "import cv2\n",
    "import numpy as np\n",
    "import os\n",
    "from random import shuffle\n",
    "from tqdm import tqdm\n",
    "import tensorflow as tf\n",
    "import matplotlib.pyplot as plt\n",
    "%matplotlib inline"
   ]
  },
  {
   "cell_type": "code",
   "execution_count": 41,
   "metadata": {},
   "outputs": [],
   "source": [
    "train_data = 'data/train'\n",
    "test_data = 'data/test'"
   ]
  },
  {
   "cell_type": "code",
   "execution_count": 42,
   "metadata": {},
   "outputs": [],
   "source": [
    "def one_hot_label(label):\n",
    "    if label=='1':\n",
    "        ohl = np.array([1,0])\n",
    "    elif label == '0':\n",
    "        ohl = np.array([0,1])\n",
    "    return ohl "
   ]
  },
  {
   "cell_type": "code",
   "execution_count": 43,
   "metadata": {},
   "outputs": [],
   "source": [
    "def train_data_with_labels():\n",
    "    train_images = []\n",
    "    for dir in os.listdir('data/train'):\n",
    "        label=str(dir)\n",
    "        print(label)\n",
    "        dir = os.path.join(os.getcwd(),os.path.join('data/train',dir))\n",
    "        for img in os.listdir(dir):\n",
    "            path = os.path.join(dir,img)\n",
    "            img = cv2.imread(path, cv2.IMREAD_GRAYSCALE)\n",
    "            img = cv2.resize(img, (28,28))\n",
    "            train_images.append([np.array(img), one_hot_label(label)])\n",
    "    shuffle(train_images)\n",
    "    return train_images        "
   ]
  },
  {
   "cell_type": "code",
   "execution_count": 44,
   "metadata": {},
   "outputs": [],
   "source": [
    "def test_data_with_labels():\n",
    "    test_images = []\n",
    "    for dir in os.listdir('data/test'):\n",
    "        label=str(dir)\n",
    "        print(label)\n",
    "        dir = os.path.join(os.getcwd(),os.path.join('data/test',dir))\n",
    "        for img in os.listdir(dir):\n",
    "            path = os.path.join(dir,img)\n",
    "            img = cv2.imread(path, cv2.IMREAD_GRAYSCALE)\n",
    "            img = cv2.resize(img, (28,28))\n",
    "            test_images.append([np.array(img), one_hot_label(label)])\n",
    "    shuffle(test_images)\n",
    "    return test_images        "
   ]
  },
  {
   "cell_type": "code",
   "execution_count": 45,
   "metadata": {},
   "outputs": [],
   "source": [
    "from keras.models import Sequential\n",
    "from keras.layers import *\n",
    "from keras.optimizers import *"
   ]
  },
  {
   "cell_type": "code",
   "execution_count": 46,
   "metadata": {},
   "outputs": [
    {
     "name": "stdout",
     "output_type": "stream",
     "text": [
      "0\n",
      "1\n",
      "0\n",
      "1\n"
     ]
    }
   ],
   "source": [
    "training_images = train_data_with_labels()\n",
    "testing_images = test_data_with_labels()\n",
    "tr_img_data = np.array([i[0] for i in training_images]).reshape(-1,28,28,1)\n",
    "tr_lbl_data = np.array([i[1] for i in training_images])\n",
    "tst_img_data = np.array([i[0] for i in testing_images]).reshape(-1,28,28,1)\n",
    "tst_lbl_data = np.array([i[1] for i in testing_images])"
   ]
  },
  {
   "cell_type": "code",
   "execution_count": 47,
   "metadata": {},
   "outputs": [
    {
     "name": "stderr",
     "output_type": "stream",
     "text": [
      "/home/vishnoitanuj/miniconda3/envs/CV/lib/python3.5/site-packages/ipykernel_launcher.py:5: UserWarning: Update your `MaxPooling2D` call to the Keras 2 API: `MaxPooling2D(data_format=\"channels_first\", pool_size=5, padding=\"same\")`\n",
      "  \"\"\"\n",
      "/home/vishnoitanuj/miniconda3/envs/CV/lib/python3.5/site-packages/ipykernel_launcher.py:8: UserWarning: Update your `MaxPooling2D` call to the Keras 2 API: `MaxPooling2D(data_format=\"channels_first\", pool_size=5, padding=\"same\")`\n",
      "  \n",
      "/home/vishnoitanuj/miniconda3/envs/CV/lib/python3.5/site-packages/ipykernel_launcher.py:11: UserWarning: Update your `MaxPooling2D` call to the Keras 2 API: `MaxPooling2D(data_format=\"channels_first\", pool_size=5, padding=\"same\")`\n",
      "  # This is added back by InteractiveShellApp.init_path()\n"
     ]
    },
    {
     "name": "stdout",
     "output_type": "stream",
     "text": [
      "Epoch 1/50\n",
      "482/482 [==============================] - 3s 6ms/step - loss: 6.8482 - acc: 0.5290\n",
      "Epoch 2/50\n",
      "482/482 [==============================] - 0s 412us/step - loss: 4.1570 - acc: 0.6784\n",
      "Epoch 3/50\n",
      "482/482 [==============================] - 0s 413us/step - loss: 4.0393 - acc: 0.6805\n",
      "Epoch 4/50\n",
      "482/482 [==============================] - 0s 416us/step - loss: 2.0897 - acc: 0.8071\n",
      "Epoch 5/50\n",
      "482/482 [==============================] - 0s 405us/step - loss: 1.0754 - acc: 0.9108\n",
      "Epoch 6/50\n",
      "482/482 [==============================] - 0s 421us/step - loss: 0.4615 - acc: 0.9419\n",
      "Epoch 7/50\n",
      "482/482 [==============================] - 0s 415us/step - loss: 0.3472 - acc: 0.9544\n",
      "Epoch 8/50\n",
      "482/482 [==============================] - 0s 414us/step - loss: 0.2395 - acc: 0.9668\n",
      "Epoch 9/50\n",
      "482/482 [==============================] - 0s 411us/step - loss: 0.1305 - acc: 0.9793\n",
      "Epoch 10/50\n",
      "482/482 [==============================] - 0s 407us/step - loss: 0.0860 - acc: 0.9834\n",
      "Epoch 11/50\n",
      "482/482 [==============================] - 0s 416us/step - loss: 0.0654 - acc: 0.9855\n",
      "Epoch 12/50\n",
      "482/482 [==============================] - 0s 421us/step - loss: 0.0285 - acc: 0.9938\n",
      "Epoch 13/50\n",
      "482/482 [==============================] - 0s 410us/step - loss: 0.0044 - acc: 0.9959\n",
      "Epoch 14/50\n",
      "482/482 [==============================] - 0s 413us/step - loss: 0.0013 - acc: 1.0000\n",
      "Epoch 15/50\n",
      "482/482 [==============================] - 0s 408us/step - loss: 0.0183 - acc: 0.9896\n",
      "Epoch 16/50\n",
      "482/482 [==============================] - 0s 417us/step - loss: 0.0068 - acc: 0.9959\n",
      "Epoch 17/50\n",
      "482/482 [==============================] - 0s 410us/step - loss: 0.0060 - acc: 0.9959\n",
      "Epoch 18/50\n",
      "482/482 [==============================] - 0s 417us/step - loss: 0.0028 - acc: 0.9979\n",
      "Epoch 19/50\n",
      "482/482 [==============================] - 0s 411us/step - loss: 5.6200e-05 - acc: 1.0000\n",
      "Epoch 20/50\n",
      "482/482 [==============================] - 0s 552us/step - loss: 6.7115e-04 - acc: 1.0000\n",
      "Epoch 21/50\n",
      "482/482 [==============================] - 0s 501us/step - loss: 0.0068 - acc: 0.9959\n",
      "Epoch 22/50\n",
      "482/482 [==============================] - 0s 487us/step - loss: 2.6504e-04 - acc: 1.0000\n",
      "Epoch 23/50\n",
      "482/482 [==============================] - 0s 473us/step - loss: 0.0143 - acc: 0.9959\n",
      "Epoch 24/50\n",
      "482/482 [==============================] - 0s 422us/step - loss: 0.0048 - acc: 0.9979\n",
      "Epoch 25/50\n",
      "482/482 [==============================] - 0s 434us/step - loss: 0.0119 - acc: 0.9938\n",
      "Epoch 26/50\n",
      "482/482 [==============================] - 0s 430us/step - loss: 0.0013 - acc: 1.0000\n",
      "Epoch 27/50\n",
      "482/482 [==============================] - 0s 420us/step - loss: 0.0110 - acc: 0.9959\n",
      "Epoch 28/50\n",
      "482/482 [==============================] - 0s 424us/step - loss: 0.0148 - acc: 0.9959\n",
      "Epoch 29/50\n",
      "482/482 [==============================] - 0s 409us/step - loss: 0.0213 - acc: 0.9938\n",
      "Epoch 30/50\n",
      "482/482 [==============================] - 0s 427us/step - loss: 0.0013 - acc: 1.0000\n",
      "Epoch 31/50\n",
      "482/482 [==============================] - 0s 452us/step - loss: 0.0049 - acc: 0.9979\n",
      "Epoch 32/50\n",
      "482/482 [==============================] - 0s 428us/step - loss: 0.0035 - acc: 0.9979\n",
      "Epoch 33/50\n",
      "482/482 [==============================] - 0s 422us/step - loss: 2.7328e-04 - acc: 1.0000\n",
      "Epoch 34/50\n",
      "482/482 [==============================] - 0s 436us/step - loss: 0.0021 - acc: 1.0000\n",
      "Epoch 35/50\n",
      "482/482 [==============================] - 0s 456us/step - loss: 2.2461e-04 - acc: 1.0000\n",
      "Epoch 36/50\n",
      "482/482 [==============================] - 0s 508us/step - loss: 0.0027 - acc: 0.9979\n",
      "Epoch 37/50\n",
      "482/482 [==============================] - 0s 470us/step - loss: 2.4564e-04 - acc: 1.0000\n",
      "Epoch 38/50\n",
      "482/482 [==============================] - 0s 409us/step - loss: 0.0038 - acc: 0.9979\n",
      "Epoch 39/50\n",
      "482/482 [==============================] - 0s 419us/step - loss: 0.0122 - acc: 0.9979\n",
      "Epoch 40/50\n",
      "482/482 [==============================] - 0s 493us/step - loss: 0.0115 - acc: 0.9979\n",
      "Epoch 41/50\n",
      "482/482 [==============================] - 0s 483us/step - loss: 0.0021 - acc: 1.0000\n",
      "Epoch 42/50\n",
      "482/482 [==============================] - 0s 413us/step - loss: 0.0020 - acc: 1.0000\n",
      "Epoch 43/50\n",
      "482/482 [==============================] - 0s 519us/step - loss: 1.3511e-04 - acc: 1.0000\n",
      "Epoch 44/50\n",
      "482/482 [==============================] - 0s 479us/step - loss: 2.9513e-04 - acc: 1.0000\n",
      "Epoch 45/50\n",
      "482/482 [==============================] - 0s 450us/step - loss: 0.0050 - acc: 0.9959\n",
      "Epoch 46/50\n",
      "482/482 [==============================] - 0s 430us/step - loss: 1.0669e-04 - acc: 1.0000\n",
      "Epoch 47/50\n",
      "482/482 [==============================] - 0s 417us/step - loss: 3.1333e-05 - acc: 1.0000\n",
      "Epoch 48/50\n",
      "482/482 [==============================] - 0s 431us/step - loss: 0.0101 - acc: 0.9979\n",
      "Epoch 49/50\n",
      "482/482 [==============================] - 0s 485us/step - loss: 0.0062 - acc: 0.9979\n",
      "Epoch 50/50\n",
      "482/482 [==============================] - 0s 498us/step - loss: 5.3104e-04 - acc: 1.0000\n",
      "_________________________________________________________________\n",
      "Layer (type)                 Output Shape              Param #   \n",
      "=================================================================\n",
      "conv2d_7 (Conv2D)            (None, 28, 28, 32)        832       \n",
      "_________________________________________________________________\n",
      "max_pooling2d_7 (MaxPooling2 (None, 28, 6, 7)          0         \n",
      "_________________________________________________________________\n",
      "conv2d_8 (Conv2D)            (None, 28, 6, 50)         8800      \n",
      "_________________________________________________________________\n",
      "max_pooling2d_8 (MaxPooling2 (None, 28, 2, 10)         0         \n",
      "_________________________________________________________________\n",
      "conv2d_9 (Conv2D)            (None, 28, 2, 80)         20080     \n",
      "_________________________________________________________________\n",
      "max_pooling2d_9 (MaxPooling2 (None, 28, 1, 16)         0         \n",
      "_________________________________________________________________\n",
      "dropout_5 (Dropout)          (None, 28, 1, 16)         0         \n",
      "_________________________________________________________________\n",
      "flatten_3 (Flatten)          (None, 448)               0         \n",
      "_________________________________________________________________\n",
      "dense_5 (Dense)              (None, 512)               229888    \n",
      "_________________________________________________________________\n",
      "dropout_6 (Dropout)          (None, 512)               0         \n",
      "_________________________________________________________________\n",
      "dense_6 (Dense)              (None, 2)                 1026      \n",
      "=================================================================\n",
      "Total params: 260,626\n",
      "Trainable params: 260,626\n",
      "Non-trainable params: 0\n",
      "_________________________________________________________________\n"
     ]
    }
   ],
   "source": [
    "model = Sequential()\n",
    "\n",
    "model.add(InputLayer(input_shape=[28,28,1]))\n",
    "model.add(Conv2D(filters=32, kernel_size=5, strides=1, padding='same', activation='relu'))\n",
    "model.add(MaxPooling2D(pool_size=5, padding='same', dim_ordering=\"th\"))\n",
    "\n",
    "model.add(Conv2D(filters=50, kernel_size=5, strides=1, padding='same', activation='relu'))\n",
    "model.add(MaxPooling2D(pool_size=5, padding='same', dim_ordering=\"th\"))\n",
    "\n",
    "model.add(Conv2D(filters=80, kernel_size=5, strides=1, padding='same', activation='relu'))\n",
    "model.add(MaxPooling2D(pool_size=5, padding='same', dim_ordering=\"th\"))\n",
    "\n",
    "model.add(Dropout(0.25))\n",
    "model.add(Flatten())  # this converts our 3D feature maps to 1D feature vectors\n",
    "model.add(Dense(512, activation='relu'))\n",
    "model.add(Dropout(rate=0.5))\n",
    "model.add(Dense(2, activation='softmax'))\n",
    "optimizer = Adam(lr=1e-3)\n",
    "\n",
    "model.compile(optimizer=optimizer, loss='categorical_crossentropy', metrics=['accuracy'])\n",
    "model.fit(x=tr_img_data, y= tr_lbl_data, epochs=50, batch_size=100)\n",
    "model.summary()"
   ]
  },
  {
   "cell_type": "code",
   "execution_count": 48,
   "metadata": {
    "scrolled": true
   },
   "outputs": [
    {
     "data": {
      "image/png": "[encoded data removed]",
      "text/plain": [
       "<Figure size 1008x1008 with 16 Axes>"
      ]
     },
     "metadata": {},
     "output_type": "display_data"
    }
   ],
   "source": [
    "fig = plt.figure(figsize=(14,14))\n",
    "\n",
    "for cnt, data in enumerate(testing_images[0:]):\n",
    "    y = fig.add_subplot(6,5, cnt+1)\n",
    "    img = data[0]\n",
    "    data = img.reshape(1,28,28,1)\n",
    "    model_out = model.predict([data])\n",
    "    \n",
    "    if np.argmax(model_out)==1:\n",
    "        str_label = '0'\n",
    "    else:\n",
    "        str_label = '1'\n",
    "        \n",
    "    y.imshow(img, cmap='gray')\n",
    "    plt.title(str_label)\n",
    "    y.axes.get_xaxis().set_visible(False)\n",
    "    y.axes.get_yaxis().set_visible(False)"
   ]
  },
  {
   "cell_type": "code",
   "execution_count": 50,
   "metadata": {},
   "outputs": [],
   "source": [
    "model.save('happy.h5')"
   ]
  },
  {
   "cell_type": "code",
   "execution_count": null,
   "metadata": {},
   "outputs": [],
   "source": [
    "del model"
   ]
  },
  {
   "cell_type": "code",
   "execution_count": 51,
   "metadata": {},
   "outputs": [],
   "source": [
    "from image_process import (\n",
    "    threshold,\n",
    "    morphology,\n",
    "    find_contours,\n",
    "    extra_contour_elimination,\n",
    "    crop_contour,\n",
    "    req_contour\n",
    ")\n",
    "import csv\n",
    "import os\n",
    "import cv2\n",
    "import numpy as np"
   ]
  },
  {
   "cell_type": "code",
   "execution_count": 96,
   "metadata": {},
   "outputs": [],
   "source": [
    "def plot(img):\n",
    "    img = cv2.imread('CV-Assignment-Dataset/DJI_0036.JPG')\n",
    "    img = cv2.cvtColor(img, cv2.COLOR_BGR2RGB)\n",
    "    clone = img.copy()\n",
    "    thresh = threshold(img)\n",
    "    img, lines = find_contours(thresh)\n",
    "    final_lines = extra_contour_elimination(lines)\n",
    "    req = []\n",
    "    for i,line in enumerate(final_lines):\n",
    "        L = crop_contour(line,thresh)\n",
    "        img = cv2.resize(L,(28,28))\n",
    "        data = img.reshape(1,28,28,1)\n",
    "        model_out = model.predict([data])\n",
    "\n",
    "        if np.argmax(model_out)==1:\n",
    "            str_label = '0'\n",
    "        else:\n",
    "            str_label = '1'\n",
    "\n",
    "        if str_label=='1':\n",
    "            print(str_label)\n",
    "            req.append(i)\n",
    "            cv2.imwrite('test_images/test.jpeg',L)\n",
    "\n",
    "    for index in req:\n",
    "        rect = cv2.minAreaRect(final_lines[index])\n",
    "        box = cv2.boxPoints(rect)\n",
    "        box = np.int0(box)\n",
    "        cv2.drawContours(clone,[box],0,(0,0,0),1)\n",
    "        cv2.imwrite(\"test_images/tested.jpeg\",clone)"
   ]
  },
  {
   "cell_type": "code",
   "execution_count": null,
   "metadata": {},
   "outputs": [],
   "source": []
  }
 ],
 "metadata": {
  "kernelspec": {
   "display_name": "Python 3",
   "language": "python",
   "name": "python3"
  },
  "language_info": {
   "codemirror_mode": {
    "name": "ipython",
    "version": 3
   },
   "file_extension": ".py",
   "mimetype": "text/x-python",
   "name": "python",
   "nbconvert_exporter": "python",
   "pygments_lexer": "ipython3",
   "version": "3.5.5"
  }
 },
 "nbformat": 4,
 "nbformat_minor": 2
}
