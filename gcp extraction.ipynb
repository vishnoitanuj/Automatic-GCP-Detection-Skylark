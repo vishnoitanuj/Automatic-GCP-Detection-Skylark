{
 "cells": [
  {
   "cell_type": "markdown",
   "metadata": {},
   "source": [
    "# Step 1: Best Contour Extraction/Prediction"
   ]
  },
  {
   "cell_type": "code",
   "execution_count": 5,
   "metadata": {},
   "outputs": [],
   "source": [
    "orig_dir = 'CV-Assignment-Dataset'   #Test Images Directory\n",
    "dest_dir = 'plot'                    #images stored with ROI boxes"
   ]
  },
  {
   "cell_type": "code",
   "execution_count": 78,
   "metadata": {},
   "outputs": [
    {
     "name": "stdout",
     "output_type": "stream",
     "text": [
      "Populating the interactive namespace from numpy and matplotlib\n"
     ]
    }
   ],
   "source": [
    "from image_process import (\n",
    "    threshold,\n",
    "    morphology,\n",
    "    find_contours,\n",
    "    extra_contour_elimination,\n",
    "    crop_contour,\n",
    "    req_contour\n",
    ")\n",
    "import csv\n",
    "import os\n",
    "import cv2\n",
    "import numpy as np\n",
    "import matplotlib.pyplot as plt\n",
    "%matplotlib inline\n",
    "%pylab inline --no-import-all"
   ]
  },
  {
   "cell_type": "code",
   "execution_count": 79,
   "metadata": {},
   "outputs": [],
   "source": [
    "from keras.models import load_model\n",
    "model = load_model('model.hdf5')"
   ]
  },
  {
   "cell_type": "code",
   "execution_count": 181,
   "metadata": {},
   "outputs": [],
   "source": [
    "def plot(filename,file,target):\n",
    "    img = cv2.imread(filename)\n",
    "#     img = cv2.cvtColor(img, cv2.COLOR_BGR2RGB)\n",
    "    clone = img.copy()\n",
    "    thresh = threshold(img)\n",
    "    img, lines = find_contours(thresh)\n",
    "    final_lines = extra_contour_elimination(lines)\n",
    "    req = []\n",
    "    for i,line in enumerate(final_lines):\n",
    "        _, L = crop_contour(line,thresh)\n",
    "        img = cv2.resize(L,(28,28))\n",
    "        data = img.reshape(1,28,28,1)\n",
    "        model_out = model.predict([data])\n",
    "\n",
    "        if np.argmax(model_out)==1:\n",
    "            str_label = '0'\n",
    "        else:\n",
    "            str_label = '1'\n",
    "\n",
    "        if str_label=='1':\n",
    "            print(file)\n",
    "            req.append(i)\n",
    "            name = dest_dir+'/'+file\n",
    "#             print(name)\n",
    "            rect = cv2.minAreaRect(line)\n",
    "            box = cv2.boxPoints(rect)\n",
    "            box = np.int0(box)\n",
    "#             boxes.append(box)\n",
    "            cv2.drawContours(clone,[box],0,(0,255,0),2)\n",
    "            xmin = min(box[:,0])\n",
    "            xmax = max(box[:,0])\n",
    "            ymin = min(box[:,1])\n",
    "            ymax = max(box[:,1])\n",
    "            crop = [xmin,xmax,ymin,ymax]\n",
    "            target.append([file,thresh,line,crop])\n",
    "            cv2.imwrite(name,clone)\n",
    "#     for index in req:\n",
    "# #         print(final_lines[index])\n",
    "#         rect = cv2.minAreaRect(final_lines[index])\n",
    "#         box = cv2.boxPoints(rect)\n",
    "#         box = np.int0(box)\n",
    "#         boxes.append(box)\n",
    "#         cv2.drawContours(clone,[box],0,(0,255,0),2)\n",
    "#         cv2.imwrite(name,clone)\n",
    "    cv2.imwrite(\"test.jpeg\",thresh)\n",
    "#     print(boxes[0])\n",
    "    return target"
   ]
  },
  {
   "cell_type": "code",
   "execution_count": 182,
   "metadata": {
    "scrolled": false
   },
   "outputs": [
    {
     "name": "stdout",
     "output_type": "stream",
     "text": [
      "DSC08876.JPG\n",
      "DJI_0422.JPG\n",
      "DJI_0422.JPG\n",
      "DJI_0083.JPG\n",
      "DJI_0083.JPG\n",
      "DSC01453.JPG\n",
      "M1_F1.3_0405.JPG\n",
      "M1_F1.3_0405.JPG\n",
      "DJI_0617.JPG\n",
      "DJI_0036.JPG\n",
      "DJI_0616.JPG\n",
      "DJI_0086.JPG\n",
      "DJI_0086.JPG\n",
      "DJI_0086.JPG\n",
      "DJI_0086.JPG\n",
      "[4160, 4168, 169, 185]\n"
     ]
    }
   ],
   "source": [
    "target = []\n",
    "for file in os.listdir(orig_dir):\n",
    "    path = os.path.join(orig_dir,file)\n",
    "    target = plot(path,file,target)\n",
    "print(target[0][3])\n",
    "boundary = target[0][3]\n",
    "# cv2.imwrite(\"crop.jpeg\",crop),"
   ]
  },
  {
   "cell_type": "markdown",
   "metadata": {},
   "source": [
    "# Step 2: Point of L extraction"
   ]
  },
  {
   "cell_type": "markdown",
   "metadata": {},
   "source": [
    "Extraction using Center of mass, since the required coordinates lie near COM of L"
   ]
  },
  {
   "cell_type": "code",
   "execution_count": 183,
   "metadata": {},
   "outputs": [],
   "source": [
    "# def get_coordinates(line)    \n",
    "def get_com(contours):\n",
    "#     filename = 'data/train/1/230.jpeg'\n",
    "#     image = cv2.imread(filename)\n",
    "#     imgray = cv2.cvtColor(image, cv2.COLOR_BGR2GRAY)\n",
    "#     gray = imgray.copy()\n",
    "#     _, thresh = cv2.threshold(imgray, 220, 255, 0)\n",
    "#     _, contours, hierarchy = cv2.findContours(thresh, cv2.cv2.RETR_EXTERNAL, cv2.CHAIN_APPROX_SIMPLE)\n",
    "\n",
    "    # cnts = cv2.drawContours(image, contours[0], -1, (0, 255, 0), 1)\n",
    "\n",
    "    kpCnt = len(contours)\n",
    "\n",
    "    x = 0\n",
    "    y = 0\n",
    "    \n",
    "    for kp in contours:\n",
    "        x = x+kp[0][0]\n",
    "        y = y+kp[0][1]\n",
    "\n",
    "    #     cv2.circle(image, (np.uint8(np.ceil(x/kpCnt)), np.uint8(np.ceil(y/kpCnt))), 1, (0, 255, 255),1 )\n",
    "\n",
    "    com = np.array([x/kpCnt,y/kpCnt])\n",
    "    return com\n",
    "\n",
    "    #     print((x/kpCnt),(y/kpCnt))\n",
    "    #     plt.imshow(cnts)"
   ]
  },
  {
   "cell_type": "code",
   "execution_count": 184,
   "metadata": {},
   "outputs": [],
   "source": [
    "def check(rect,pt):\n",
    "    logic = rect[0] < pt[0] < rect[1] and rect[2] < pt[1] < rect[3]\n",
    "    return logic"
   ]
  },
  {
   "cell_type": "code",
   "execution_count": 185,
   "metadata": {},
   "outputs": [],
   "source": [
    "def get_gcp(gray,com,boundary):\n",
    "    plt.imshow(gray)\n",
    "    dst = cv2.cornerHarris(gray,2,3,0.04)\n",
    "    dst = cv2.dilate(dst,None)\n",
    "    ret, dst = cv2.threshold(dst,0.001*dst.max(),255,0)\n",
    "    dst = np.uint8(dst)\n",
    "\n",
    "    # find centroids\n",
    "    ret, labels, stats, centroids = cv2.connectedComponentsWithStats(dst)\n",
    "\n",
    "\n",
    "    # define the criteria to stop and refine the corners\n",
    "    criteria = (cv2.TERM_CRITERIA_EPS + cv2.TERM_CRITERIA_MAX_ITER, 100, 0.001)\n",
    "    corners = cv2.cornerSubPix(gray,np.float32(centroids),(3,3),(-1,-1),criteria)\n",
    "#     print(corners[:,1])\n",
    "    dist_min = 1000000\n",
    "    \n",
    "    # Extra contour elimination\n",
    "    for i,corner in enumerate(corners):\n",
    "        ans = check(boundary,corner)\n",
    "        if not ans:\n",
    "            np.delete(corners,i)\n",
    "            \n",
    "    #check of eucliedien distance of COM from Harris SubPix corners \n",
    "    for corner in corners:\n",
    "        euc_dist = np.linalg.norm(corner - com)\n",
    "        if euc_dist<dist_min:\n",
    "            dist_min = euc_dist\n",
    "            gcp = corner\n",
    "    return gcp\n",
    "# Now draw them\n",
    "# res = np.hstack((centroids,corners))\n",
    "# res = np.int0(res)\n",
    "# image[res[:,1],res[:,0]]=[0,0,255]\n",
    "# image[res[:,3],res[:,2]] = [0,255,0]\n",
    "\n",
    "# cv2.imwrite('subpixel5.png',image)\n",
    "# plt.imshow(image)\n",
    "# print(corners)\n",
    "# print(gray[10,9])"
   ]
  },
  {
   "cell_type": "code",
   "execution_count": 186,
   "metadata": {},
   "outputs": [
    {
     "name": "stdout",
     "output_type": "stream",
     "text": [
      "DSC08876.JPG   [4164.902    171.14754]\n",
      "DJI_0422.JPG   [2609.2104 2253.8484]\n",
      "DJI_0422.JPG   [ 507.13623 1613.8837 ]\n",
      "DJI_0083.JPG   [2458.4124 2062.5876]\n",
      "DJI_0083.JPG   [2335.0178   573.03754]\n",
      "DSC01453.JPG   [3128.804  1170.9548]\n",
      "M1_F1.3_0405.JPG   [ 982.9792 2688.448 ]\n",
      "M1_F1.3_0405.JPG   [ 665.07776 1486.0809 ]\n",
      "DJI_0617.JPG   [3780.3523     33.220127]\n",
      "DJI_0036.JPG   [1742.4098 2597.1355]\n",
      "DJI_0616.JPG   [ 254.71074 1455.9338 ]\n",
      "DJI_0086.JPG   [2528.279  2445.4182]\n",
      "DJI_0086.JPG   [1474.6449 1496.343 ]\n",
      "DJI_0086.JPG   [2360.0862   777.64453]\n",
      "DJI_0086.JPG   [2284.9143   124.52857]\n"
     ]
    },
    {
     "data": {
      "image/png": "[encoded data removed]",
      "text/plain": [
       "<Figure size 432x288 with 1 Axes>"
      ]
     },
     "metadata": {},
     "output_type": "display_data"
    }
   ],
   "source": [
    "gcps = []\n",
    "for target in target:\n",
    "    com = get_com(target[2])\n",
    "    boundary = target[3]\n",
    "    gcp = get_gcp(target[1],com,boundary)\n",
    "    # scale = target[0][3]\n",
    "    # o_shape = target[0][4]\n",
    "    # gcp_x = scale[0]*gcp[0]/(o_shape[1])\n",
    "    # gcp_y = scale[1]*gcp[1]/o_shape[0]\n",
    "#     print(com)\n",
    "    # print(scale)\n",
    "    file = target[0]\n",
    "    gcps.append([file,gcp])\n",
    "    print(file,\" \",gcp)\n",
    "    # print(gcp_x,gcp_y)"
   ]
  },
  {
   "cell_type": "code",
   "execution_count": null,
   "metadata": {},
   "outputs": [],
   "source": []
  }
 ],
 "metadata": {
  "kernelspec": {
   "display_name": "Python 3",
   "language": "python",
   "name": "python3"
  },
  "language_info": {
   "codemirror_mode": {
    "name": "ipython",
    "version": 3
   },
   "file_extension": ".py",
   "mimetype": "text/x-python",
   "name": "python",
   "nbconvert_exporter": "python",
   "pygments_lexer": "ipython3",
   "version": "3.5.5"
  }
 },
 "nbformat": 4,
 "nbformat_minor": 2
}
