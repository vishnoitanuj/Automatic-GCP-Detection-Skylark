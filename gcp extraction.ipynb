{
 "cells": [
  {
   "cell_type": "code",
   "execution_count": null,
   "metadata": {},
   "outputs": [],
   "source": [
    "from image_process import (\n",
    "    threshold,\n",
    "    morphology,\n",
    "    find_contours,\n",
    "    extra_contour_elimination,\n",
    "    crop_contour,\n",
    "    req_contour\n",
    ")\n",
    "import csv\n",
    "import os\n",
    "import cv2\n",
    "import numpy as np\n",
    "import matplotlib.pyplot as plt\n",
    "%matplotlib inline"
   ]
  },
  {
   "cell_type": "code",
   "execution_count": null,
   "metadata": {},
   "outputs": [],
   "source": [
    "from keras.models import load_model\n",
    "model = load_model('model.hdf5')"
   ]
  },
  {
   "cell_type": "code",
   "execution_count": null,
   "metadata": {},
   "outputs": [],
   "source": [
    "dest_dir = 'plot'\n",
    "def plot(filename,file):\n",
    "    img = cv2.imread(filename)\n",
    "#     img = cv2.cvtColor(img, cv2.COLOR_BGR2RGB)\n",
    "    clone = img.copy()\n",
    "    thresh = threshold(img)\n",
    "    img, lines = find_contours(thresh)\n",
    "    final_lines = extra_contour_elimination(lines)\n",
    "    req = []\n",
    "    contour = []\n",
    "    for i,line in enumerate(final_lines):\n",
    "        L = crop_contour(line,thresh)\n",
    "        img = cv2.resize(L,(28,28))\n",
    "        data = img.reshape(1,28,28,1)\n",
    "        model_out = model.predict([data])\n",
    "\n",
    "        if np.argmax(model_out)==1:\n",
    "            str_label = '0'\n",
    "        else:\n",
    "            str_label = '1'\n",
    "\n",
    "        if str_label=='1':\n",
    "            print(file)\n",
    "            req.append(i)\n",
    "            contour.append([file,line])\n",
    "            name = dest_dir+'/'+file\n",
    "#             print(name)\n",
    "            \n",
    "\n",
    "    for index in req:\n",
    "        rect = cv2.minAreaRect(final_lines[index])\n",
    "        box = cv2.boxPoints(rect)\n",
    "        box = np.int0(box)\n",
    "        cv2.drawContours(clone,[box],0,(0,255,0),2)\n",
    "        cv2.imwrite(name,clone)"
   ]
  },
  {
   "cell_type": "code",
   "execution_count": null,
   "metadata": {},
   "outputs": [],
   "source": [
    "orig_dir = 'CV-Assignment-Dataset'\n",
    "for file in os.listdir(orig_dir):\n",
    "    path = os.path.join(orig_dir,file)\n",
    "    plot(path,file)"
   ]
  },
  {
   "cell_type": "code",
   "execution_count": 171,
   "metadata": {},
   "outputs": [],
   "source": [
    "filename = 'data/train/1/18.jpeg'\n",
    "img = cv2.imread(filename)\n",
    "gray = cv2.cvtColor(img, cv2.COLOR_BGR2GRAY)"
   ]
  },
  {
   "cell_type": "code",
   "execution_count": 174,
   "metadata": {},
   "outputs": [
    {
     "name": "stdout",
     "output_type": "stream",
     "text": [
      "[[13.848452  10.239368 ]\n",
      " [13.848895  10.239214 ]\n",
      " [ 2.1785715 22.607143 ]\n",
      " [25.928862  19.165775 ]\n",
      " [22.666443  25.453205 ]]\n",
      "249\n"
     ]
    },
    {
     "data": {
      "image/png": "[encoded data removed]",
      "text/plain": [
       "<Figure size 432x288 with 1 Axes>"
      ]
     },
     "metadata": {},
     "output_type": "display_data"
    }
   ],
   "source": [
    "# find Harris corners\n",
    "dst = cv2.cornerHarris(gray,2,3,0.04)\n",
    "dst = cv2.dilate(dst,None)\n",
    "ret, dst = cv2.threshold(dst,0.001*dst.max(),255,0)\n",
    "dst = np.uint8(dst)\n",
    "\n",
    "# find centroids\n",
    "ret, labels, stats, centroids = cv2.connectedComponentsWithStats(dst)\n",
    "\n",
    "        \n",
    "# define the criteria to stop and refine the corners\n",
    "criteria = (cv2.TERM_CRITERIA_EPS + cv2.TERM_CRITERIA_MAX_ITER, 100, 0.001)\n",
    "corners = cv2.cornerSubPix(gray,np.float32(centroids),(3,3),(-1,-1),criteria)\n",
    "        \n",
    "\n",
    "# Now draw them\n",
    "res = np.hstack((centroids,corners))\n",
    "res = np.int0(res)\n",
    "img[res[:,1],res[:,0]]=[0,0,255]\n",
    "img[res[:,3],res[:,2]] = [0,255,0]\n",
    "\n",
    "cv2.imwrite('subpixel5.png',img)\n",
    "plt.imshow(img)\n",
    "print(corners)\n",
    "print(gray[10,9])"
   ]
  },
  {
   "cell_type": "code",
   "execution_count": 175,
   "metadata": {},
   "outputs": [
    {
     "name": "stdout",
     "output_type": "stream",
     "text": [
      "(16.54025010597711, 18.266998728274693)\n"
     ]
    }
   ],
   "source": [
    "x = [p[0] for p in centroids]\n",
    "y = [p[1] for p in centroids]\n",
    "com = (sum(x) / len(centroids), sum(y) / len(centroids))\n",
    "print(com)"
   ]
  },
  {
   "cell_type": "code",
   "execution_count": 183,
   "metadata": {},
   "outputs": [
    {
     "name": "stdout",
     "output_type": "stream",
     "text": [
      "14 16\n"
     ]
    },
    {
     "data": {
      "text/plain": [
       "<matplotlib.image.AxesImage at 0x7f102a1a9fd0>"
      ]
     },
     "execution_count": 183,
     "metadata": {},
     "output_type": "execute_result"
    },
    {
     "data": {
      "image/png": "[encoded data removed]",
      "text/plain": [
       "<Figure size 432x288 with 1 Axes>"
      ]
     },
     "metadata": {},
     "output_type": "display_data"
    }
   ],
   "source": [
    "filename = 'data/train/1/18.jpeg'\n",
    "image = cv2.imread(filename)\n",
    "imgray = cv2.cvtColor(image, cv2.COLOR_BGR2GRAY)\n",
    "ret, thresh = cv2.threshold(imgray, 200, 255, 0, cv2.THRESH_BINARY_INV | cv2.THRESH_OTSU)\n",
    "_, contours, hierarchy = cv2.findContours(thresh, cv2.RETR_LIST, cv2.CHAIN_APPROX_NONE)\n",
    "\n",
    "cnts = cv2.drawContours(image, contours[0], -1, (0, 255, 0), 1)\n",
    "\n",
    "kpCnt = len(contours[0])\n",
    "\n",
    "x = -10\n",
    "y = -10\n",
    "\n",
    "for kp in contours[0]:\n",
    "    x = x+kp[0][0]\n",
    "    y = y+kp[0][1]\n",
    "\n",
    "cv2.circle(image, (np.uint8(np.ceil(x/kpCnt)), np.uint8(np.ceil(y/kpCnt))), 1, (0, 255, 255),1 )\n",
    "\n",
    "print(np.uint8(np.ceil(x/kpCnt)),np.uint8(np.ceil(y/kpCnt)))\n",
    "plt.imshow(cnts)\n",
    "# cv2.namedWindow(\"Result\", cv2.WINDOW_NORMAL)\n",
    "# cv2.imshow(\"Result\", cnts)\n",
    "# cv2.waitKey(0)\n",
    "# cv2.destroyAllWindows()"
   ]
  },
  {
   "cell_type": "code",
   "execution_count": null,
   "metadata": {},
   "outputs": [],
   "source": []
  }
 ],
 "metadata": {
  "kernelspec": {
   "display_name": "Python 3",
   "language": "python",
   "name": "python3"
  },
  "language_info": {
   "codemirror_mode": {
    "name": "ipython",
    "version": 3
   },
   "file_extension": ".py",
   "mimetype": "text/x-python",
   "name": "python",
   "nbconvert_exporter": "python",
   "pygments_lexer": "ipython3",
   "version": "3.5.5"
  }
 },
 "nbformat": 4,
 "nbformat_minor": 2
}
