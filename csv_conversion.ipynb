{
 "cells": [
  {
   "cell_type": "code",
   "execution_count": 2,
   "metadata": {},
   "outputs": [],
   "source": [
    "import csv\n",
    "import numpy as np"
   ]
  },
  {
   "cell_type": "code",
   "execution_count": 57,
   "metadata": {},
   "outputs": [],
   "source": [
    "file='ML-Dataset#2/GCP_location.csv'\n",
    "with open(file) as f:\n",
    "    with open('data2.csv','w') as n:\n",
    "        reader = csv.reader(f, delimiter=\",\")\n",
    "        writer = csv.writer(n)\n",
    "        next(reader, None)\n",
    "        for i in reader:\n",
    "            image_name= 'ML-Dataset#2/' +i[0][19:]\n",
    "            cord = i[1][2:-2].split(',')\n",
    "            x=int(round(float(cord[0])))\n",
    "            y=int(round(float(cord[1])))\n",
    "            row=[image_name,x,y]\n",
    "            writer.writerow(row)\n",
    "        \n",
    "    n.close()\n",
    "f.close()\n",
    "        "
   ]
  },
  {
   "cell_type": "code",
   "execution_count": null,
   "metadata": {},
   "outputs": [],
   "source": []
  }
 ],
 "metadata": {
  "kernelspec": {
   "display_name": "Python 3",
   "language": "python",
   "name": "python3"
  },
  "language_info": {
   "codemirror_mode": {
    "name": "ipython",
    "version": 3
   },
   "file_extension": ".py",
   "mimetype": "text/x-python",
   "name": "python",
   "nbconvert_exporter": "python",
   "pygments_lexer": "ipython3",
   "version": "3.5.5"
  }
 },
 "nbformat": 4,
 "nbformat_minor": 2
}
