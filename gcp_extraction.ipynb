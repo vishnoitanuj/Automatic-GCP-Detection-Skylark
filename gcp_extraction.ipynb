{
 "cells": [
  {
   "cell_type": "markdown",
   "metadata": {},
   "source": [
    "# Step 1: Best Contour Extraction/Prediction"
   ]
  },
  {
   "cell_type": "code",
   "execution_count": 62,
   "metadata": {},
   "outputs": [],
   "source": [
    "orig_dir = 'CV-Assignment-Dataset'   #Test Images Directory\n",
    "dest_dir = 'plot'                    #images stored with ROI boxes"
   ]
  },
  {
   "cell_type": "code",
   "execution_count": 63,
   "metadata": {},
   "outputs": [],
   "source": [
    "from image_process import (\n",
    "    threshold,\n",
    "    morphology,\n",
    "    find_contours,\n",
    "    extra_contour_elimination,\n",
    "    crop_contour,\n",
    "    req_contour\n",
    ")\n",
    "import csv\n",
    "import os\n",
    "import cv2\n",
    "import numpy as np\n",
    "import matplotlib.pyplot as plt\n",
    "%matplotlib inline"
   ]
  },
  {
   "cell_type": "markdown",
   "metadata": {},
   "source": [
    "Load saved model after training"
   ]
  },
  {
   "cell_type": "code",
   "execution_count": 64,
   "metadata": {},
   "outputs": [],
   "source": [
    "from keras.models import load_model\n",
    "model = load_model('model.hdf5')"
   ]
  },
  {
   "cell_type": "markdown",
   "metadata": {},
   "source": [
    "Plot and predict the required contour and also return the bounding box coordinates"
   ]
  },
  {
   "cell_type": "code",
   "execution_count": 65,
   "metadata": {},
   "outputs": [],
   "source": [
    "def plot(filename,file,target):\n",
    "    img = cv2.imread(filename)\n",
    "    clone = img.copy()\n",
    "    thresh = threshold(img)\n",
    "    img, lines = find_contours(thresh)\n",
    "    final_lines = extra_contour_elimination(lines)\n",
    "    req = []\n",
    "    for i,line in enumerate(final_lines):\n",
    "        L = crop_contour(line,thresh)\n",
    "        img = cv2.resize(L,(28,28))\n",
    "        data = img.reshape(1,28,28,1)\n",
    "        model_out = model.predict([data])\n",
    "\n",
    "        if np.argmax(model_out)==1:\n",
    "            str_label = '0'\n",
    "        else:\n",
    "            str_label = '1'\n",
    "\n",
    "        if str_label=='1':\n",
    "            print(file)\n",
    "            req.append(i)\n",
    "            name = dest_dir+'/'+file\n",
    "            rect = cv2.minAreaRect(line)\n",
    "            box = cv2.boxPoints(rect)\n",
    "            box = np.int0(box)\n",
    "            cv2.drawContours(clone,[box],0,(0,255,0),2)\n",
    "            xmin = min(box[:,0])\n",
    "            xmax = max(box[:,0])\n",
    "            ymin = min(box[:,1])\n",
    "            ymax = max(box[:,1])\n",
    "            crop = [xmin,xmax,ymin,ymax]\n",
    "            target.append([file,thresh,line,crop])\n",
    "            cv2.imwrite(name,clone)\n",
    "    return target"
   ]
  },
  {
   "cell_type": "code",
   "execution_count": 71,
   "metadata": {
    "scrolled": false
   },
   "outputs": [
    {
     "name": "stdout",
     "output_type": "stream",
     "text": [
      "DSC08876.JPG\n",
      "DJI_0422.JPG\n",
      "DJI_0422.JPG\n",
      "DJI_0083.JPG\n",
      "DJI_0083.JPG\n",
      "DSC01453.JPG\n",
      "M1_F1.3_0405.JPG\n",
      "M1_F1.3_0405.JPG\n",
      "DJI_0617.JPG\n",
      "DJI_0036.JPG\n",
      "DJI_0616.JPG\n",
      "DJI_0086.JPG\n",
      "DJI_0086.JPG\n",
      "DJI_0086.JPG\n",
      "DJI_0086.JPG\n"
     ]
    }
   ],
   "source": [
    "target = []\n",
    "for file in os.listdir(orig_dir):\n",
    "    path = os.path.join(orig_dir,file)\n",
    "    target = plot(path,file,target)\n",
    "boundary = target[0][3]"
   ]
  },
  {
   "cell_type": "markdown",
   "metadata": {},
   "source": [
    "# Step 2: Point of L extraction"
   ]
  },
  {
   "cell_type": "markdown",
   "metadata": {},
   "source": [
    "Extraction using Center of mass, since the required coordinates lie near COM of L"
   ]
  },
  {
   "cell_type": "code",
   "execution_count": 82,
   "metadata": {},
   "outputs": [],
   "source": [
    "def get_com(contours):\n",
    "\n",
    "    kpCnt = len(contours)\n",
    "\n",
    "    x = 0\n",
    "    y = 0\n",
    "    \n",
    "    for kp in contours:\n",
    "        x = x+kp[0][0]\n",
    "        y = y+kp[0][1]\n",
    "\n",
    "\n",
    "    com = np.array([x/kpCnt,y/kpCnt])\n",
    "    return com"
   ]
  },
  {
   "cell_type": "markdown",
   "metadata": {},
   "source": [
    "Check if the contour coordinates lie in the required bounding box coordinates"
   ]
  },
  {
   "cell_type": "code",
   "execution_count": 73,
   "metadata": {},
   "outputs": [],
   "source": [
    "def check(rect,pt):\n",
    "    logic = rect[0] < pt[0] < rect[1] and rect[2] < pt[1] < rect[3]\n",
    "    return logic"
   ]
  },
  {
   "cell_type": "markdown",
   "metadata": {},
   "source": [
    "Detect corner with Haris Corner detector.\n",
    "Here, cv2.cornerSubPix() further refines the corners detected with sub-pixel accuracy. "
   ]
  },
  {
   "cell_type": "code",
   "execution_count": 75,
   "metadata": {},
   "outputs": [],
   "source": [
    "def get_gcp(gray,com,boundary):\n",
    "    gray = np.float32(gray)\n",
    "    dst = cv2.cornerHarris(gray,2,3,0.04)\n",
    "    dst = cv2.dilate(dst,None)\n",
    "    ret, dst = cv2.threshold(dst,0.001*dst.max(),255,0)\n",
    "    dst = np.uint8(dst)\n",
    "\n",
    "    # find centroids\n",
    "    ret, labels, stats, centroids = cv2.connectedComponentsWithStats(dst)\n",
    "\n",
    "\n",
    "    # define the criteria to stop and refine the corners\n",
    "    criteria = (cv2.TERM_CRITERIA_EPS + cv2.TERM_CRITERIA_MAX_ITER, 100, 0.001)\n",
    "    corners = cv2.cornerSubPix(gray,np.float32(centroids),(3,3),(-1,-1),criteria)\n",
    "    dist_min = 1000000\n",
    "    \n",
    "    # Extra contour elimination\n",
    "    for i,corner in enumerate(corners):\n",
    "        ans = check(boundary,corner)\n",
    "        if not ans:\n",
    "            np.delete(corners,i)\n",
    "            \n",
    "    #check of eucliedien distance of COM from Harris SubPix corners \n",
    "    for corner in corners:\n",
    "        euc_dist = np.linalg.norm(corner - com)\n",
    "        if euc_dist<dist_min:\n",
    "            dist_min = euc_dist\n",
    "            gcp = corner\n",
    "    return gcp"
   ]
  },
  {
   "cell_type": "code",
   "execution_count": 76,
   "metadata": {},
   "outputs": [
    {
     "name": "stdout",
     "output_type": "stream",
     "text": [
      "DSC08876.JPG   [4164.902    171.14754]\n",
      "DJI_0422.JPG   [2609.2104 2253.8484]\n",
      "DJI_0422.JPG   [ 507.13623 1613.8837 ]\n",
      "DJI_0083.JPG   [2458.4124 2062.5876]\n",
      "DJI_0083.JPG   [2335.0178   573.03754]\n",
      "DSC01453.JPG   [3128.804  1170.9548]\n",
      "M1_F1.3_0405.JPG   [ 982.9792 2688.448 ]\n",
      "M1_F1.3_0405.JPG   [ 665.07776 1486.0809 ]\n",
      "DJI_0617.JPG   [3780.3523     33.220127]\n",
      "DJI_0036.JPG   [1742.4098 2597.1355]\n",
      "DJI_0616.JPG   [ 254.71074 1455.9338 ]\n",
      "DJI_0086.JPG   [2528.279  2445.4182]\n",
      "DJI_0086.JPG   [1474.6449 1496.343 ]\n",
      "DJI_0086.JPG   [2360.0862   777.64453]\n",
      "DJI_0086.JPG   [2284.9143   124.52857]\n"
     ]
    }
   ],
   "source": [
    "gcps = []\n",
    "for target in target:\n",
    "    com = get_com(target[2])\n",
    "    boundary = target[3]\n",
    "    file = target[0]\n",
    "    gcps.append([file,gcp])\n",
    "    print(file,\" \",gcp)"
   ]
  },
  {
   "cell_type": "markdown",
   "metadata": {},
   "source": [
    "# Record CSV Output"
   ]
  },
  {
   "cell_type": "code",
   "execution_count": 77,
   "metadata": {},
   "outputs": [],
   "source": [
    "import csv\n",
    "import os"
   ]
  },
  {
   "cell_type": "code",
   "execution_count": 80,
   "metadata": {},
   "outputs": [
    {
     "name": "stdout",
     "output_type": "stream",
     "text": [
      "/home/vishnoitanuj/Skylark_CV/output.csv\n"
     ]
    }
   ],
   "source": [
    "file = os.path.join(os.getcwd(),'output.csv')\n",
    "print(file)"
   ]
  },
  {
   "cell_type": "code",
   "execution_count": 81,
   "metadata": {},
   "outputs": [],
   "source": [
    "with open(file,'w') as f:\n",
    "    writer = csv.writer(f)\n",
    "    writer.writerow([\"FileName\", \"GCPLocation\"])\n",
    "    for i in range(len(gcps)):\n",
    "        row = []\n",
    "        img = gcps[i][0]\n",
    "        row.append(img)\n",
    "        points = '['\n",
    "        points += str(gcps[i][1])\n",
    "        for j in range(i+1,len(gcps)):\n",
    "            if gcps[j][0]==img:\n",
    "                points += str(gcps[j][1])\n",
    "                i += 1\n",
    "            else:\n",
    "                break\n",
    "        points += ']'\n",
    "        row.append(points)\n",
    "        writer.writerow(row)\n",
    "    f.close\n",
    "        \n",
    "                "
   ]
  }
 ],
 "metadata": {
  "kernelspec": {
   "display_name": "Python 3",
   "language": "python",
   "name": "python3"
  },
  "language_info": {
   "codemirror_mode": {
    "name": "ipython",
    "version": 3
   },
   "file_extension": ".py",
   "mimetype": "text/x-python",
   "name": "python",
   "nbconvert_exporter": "python",
   "pygments_lexer": "ipython3",
   "version": "3.5.5"
  }
 },
 "nbformat": 4,
 "nbformat_minor": 2
}
