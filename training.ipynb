{
 "cells": [
  {
   "cell_type": "code",
   "execution_count": 79,
   "metadata": {},
   "outputs": [],
   "source": [
    "import cv2\n",
    "import numpy as np\n",
    "import os\n",
    "from random import shuffle\n",
    "from tqdm import tqdm\n",
    "import tensorflow as tf\n",
    "import matplotlib.pyplot as plt\n",
    "%matplotlib inline"
   ]
  },
  {
   "cell_type": "code",
   "execution_count": 80,
   "metadata": {},
   "outputs": [],
   "source": [
    "train_data = 'data/train'\n",
    "test_data = 'data/test'"
   ]
  },
  {
   "cell_type": "code",
   "execution_count": 81,
   "metadata": {},
   "outputs": [],
   "source": [
    "def one_hot_label(label):\n",
    "    if label=='1':\n",
    "        ohl = np.array([1,0])\n",
    "    elif label == '0':\n",
    "        ohl = np.array([0,1])\n",
    "    return ohl "
   ]
  },
  {
   "cell_type": "code",
   "execution_count": 82,
   "metadata": {},
   "outputs": [],
   "source": [
    "def train_data_with_labels():\n",
    "    train_images = []\n",
    "    for dir in os.listdir('data/train'):\n",
    "        label=str(dir)\n",
    "        print(label)\n",
    "        dir = os.path.join(os.getcwd(),os.path.join('data/train',dir))\n",
    "        for img in os.listdir(dir):\n",
    "            path = os.path.join(dir,img)\n",
    "            img = cv2.imread(path, cv2.IMREAD_GRAYSCALE)\n",
    "            img = cv2.resize(img, (28,28))\n",
    "            train_images.append([np.array(img), one_hot_label(label)])\n",
    "    shuffle(train_images)\n",
    "    return train_images        "
   ]
  },
  {
   "cell_type": "code",
   "execution_count": 83,
   "metadata": {},
   "outputs": [],
   "source": [
    "def test_data_with_labels():\n",
    "    test_images = []\n",
    "    for dir in os.listdir('data/test'):\n",
    "        label=str(dir)\n",
    "        print(label)\n",
    "        dir = os.path.join(os.getcwd(),os.path.join('data/test',dir))\n",
    "        for img in os.listdir(dir):\n",
    "            path = os.path.join(dir,img)\n",
    "            img = cv2.imread(path, cv2.IMREAD_GRAYSCALE)\n",
    "            img = cv2.resize(img, (28,28))\n",
    "            test_images.append([np.array(img), one_hot_label(label)])\n",
    "    shuffle(test_images)\n",
    "    return test_images        "
   ]
  },
  {
   "cell_type": "code",
   "execution_count": 84,
   "metadata": {},
   "outputs": [],
   "source": [
    "from keras.models import Sequential\n",
    "from keras.layers import *\n",
    "from keras.optimizers import *"
   ]
  },
  {
   "cell_type": "code",
   "execution_count": 85,
   "metadata": {},
   "outputs": [
    {
     "name": "stdout",
     "output_type": "stream",
     "text": [
      "0\n",
      "1\n",
      "0\n",
      "1\n"
     ]
    }
   ],
   "source": [
    "training_images = train_data_with_labels()\n",
    "testing_images = test_data_with_labels()\n",
    "tr_img_data = np.array([i[0] for i in training_images]).reshape(-1,28,28,1)\n",
    "tr_lbl_data = np.array([i[1] for i in training_images])\n",
    "tst_img_data = np.array([i[0] for i in testing_images]).reshape(-1,28,28,1)\n",
    "tst_lbl_data = np.array([i[1] for i in testing_images])"
   ]
  },
  {
   "cell_type": "code",
   "execution_count": 86,
   "metadata": {},
   "outputs": [
    {
     "name": "stderr",
     "output_type": "stream",
     "text": [
      "/home/vishnoitanuj/miniconda3/envs/CV/lib/python3.5/site-packages/ipykernel_launcher.py:5: UserWarning: Update your `MaxPooling2D` call to the Keras 2 API: `MaxPooling2D(pool_size=5, padding=\"same\", data_format=\"channels_first\")`\n",
      "  \"\"\"\n",
      "/home/vishnoitanuj/miniconda3/envs/CV/lib/python3.5/site-packages/ipykernel_launcher.py:8: UserWarning: Update your `MaxPooling2D` call to the Keras 2 API: `MaxPooling2D(pool_size=5, padding=\"same\", data_format=\"channels_first\")`\n",
      "  \n",
      "/home/vishnoitanuj/miniconda3/envs/CV/lib/python3.5/site-packages/ipykernel_launcher.py:11: UserWarning: Update your `MaxPooling2D` call to the Keras 2 API: `MaxPooling2D(pool_size=5, padding=\"same\", data_format=\"channels_first\")`\n",
      "  # This is added back by InteractiveShellApp.init_path()\n",
      "/home/vishnoitanuj/miniconda3/envs/CV/lib/python3.5/site-packages/ipykernel_launcher.py:14: UserWarning: Update your `MaxPooling2D` call to the Keras 2 API: `MaxPooling2D(pool_size=5, padding=\"same\", data_format=\"channels_first\")`\n",
      "  \n",
      "/home/vishnoitanuj/miniconda3/envs/CV/lib/python3.5/site-packages/ipykernel_launcher.py:17: UserWarning: Update your `MaxPooling2D` call to the Keras 2 API: `MaxPooling2D(pool_size=5, padding=\"same\", data_format=\"channels_first\")`\n"
     ]
    },
    {
     "name": "stdout",
     "output_type": "stream",
     "text": [
      "Epoch 1/70\n",
      "478/478 [==============================] - 1s 3ms/step - loss: 2.1265 - acc: 0.5356\n",
      "Epoch 2/70\n",
      "478/478 [==============================] - 0s 583us/step - loss: 0.7136 - acc: 0.5586\n",
      "Epoch 3/70\n",
      "478/478 [==============================] - 0s 450us/step - loss: 0.5150 - acc: 0.7866\n",
      "Epoch 4/70\n",
      "478/478 [==============================] - 0s 428us/step - loss: 0.2522 - acc: 0.9038\n",
      "Epoch 5/70\n",
      "478/478 [==============================] - 0s 511us/step - loss: 0.1201 - acc: 0.9498\n",
      "Epoch 6/70\n",
      "478/478 [==============================] - 0s 554us/step - loss: 0.0877 - acc: 0.9686\n",
      "Epoch 7/70\n",
      "478/478 [==============================] - 0s 579us/step - loss: 0.0790 - acc: 0.9728\n",
      "Epoch 8/70\n",
      "478/478 [==============================] - 0s 495us/step - loss: 0.0303 - acc: 0.9916\n",
      "Epoch 9/70\n",
      "478/478 [==============================] - 0s 488us/step - loss: 0.0192 - acc: 0.9958\n",
      "Epoch 10/70\n",
      "478/478 [==============================] - 0s 498us/step - loss: 0.0166 - acc: 0.9916\n",
      "Epoch 11/70\n",
      "478/478 [==============================] - 0s 469us/step - loss: 0.0206 - acc: 0.9937\n",
      "Epoch 12/70\n",
      "478/478 [==============================] - 0s 509us/step - loss: 0.0162 - acc: 0.9958\n",
      "Epoch 13/70\n",
      "478/478 [==============================] - 0s 466us/step - loss: 0.0040 - acc: 1.0000\n",
      "Epoch 14/70\n",
      "478/478 [==============================] - 0s 480us/step - loss: 0.0066 - acc: 1.0000\n",
      "Epoch 15/70\n",
      "478/478 [==============================] - 0s 488us/step - loss: 0.0055 - acc: 0.9979\n",
      "Epoch 16/70\n",
      "478/478 [==============================] - 0s 550us/step - loss: 0.0042 - acc: 0.9979\n",
      "Epoch 17/70\n",
      "478/478 [==============================] - 0s 603us/step - loss: 0.0138 - acc: 0.9958\n",
      "Epoch 18/70\n",
      "478/478 [==============================] - 0s 668us/step - loss: 0.0191 - acc: 0.9895\n",
      "Epoch 19/70\n",
      "478/478 [==============================] - 0s 461us/step - loss: 0.0241 - acc: 0.9916\n",
      "Epoch 20/70\n",
      "478/478 [==============================] - 0s 436us/step - loss: 0.0293 - acc: 0.9916\n",
      "Epoch 21/70\n",
      "478/478 [==============================] - 0s 427us/step - loss: 0.0084 - acc: 0.9958\n",
      "Epoch 22/70\n",
      "478/478 [==============================] - 0s 462us/step - loss: 0.0076 - acc: 0.9979\n",
      "Epoch 23/70\n",
      "478/478 [==============================] - 0s 618us/step - loss: 0.0083 - acc: 0.9979\n",
      "Epoch 24/70\n",
      "478/478 [==============================] - 0s 495us/step - loss: 0.0042 - acc: 1.0000\n",
      "Epoch 25/70\n",
      "478/478 [==============================] - 0s 429us/step - loss: 0.0039 - acc: 1.0000\n",
      "Epoch 26/70\n",
      "478/478 [==============================] - 0s 425us/step - loss: 0.0051 - acc: 0.9979\n",
      "Epoch 27/70\n",
      "478/478 [==============================] - 0s 429us/step - loss: 0.0018 - acc: 1.0000\n",
      "Epoch 28/70\n",
      "478/478 [==============================] - 0s 597us/step - loss: 0.0011 - acc: 1.0000\n",
      "Epoch 29/70\n",
      "478/478 [==============================] - 0s 515us/step - loss: 0.0012 - acc: 1.0000\n",
      "Epoch 30/70\n",
      "478/478 [==============================] - 0s 427us/step - loss: 0.0013 - acc: 1.0000\n",
      "Epoch 31/70\n",
      "478/478 [==============================] - 0s 464us/step - loss: 4.5679e-04 - acc: 1.0000\n",
      "Epoch 32/70\n",
      "478/478 [==============================] - 0s 628us/step - loss: 0.0013 - acc: 1.0000\n",
      "Epoch 33/70\n",
      "478/478 [==============================] - 0s 471us/step - loss: 0.0067 - acc: 0.9979\n",
      "Epoch 34/70\n",
      "478/478 [==============================] - 0s 472us/step - loss: 0.0078 - acc: 0.9979\n",
      "Epoch 35/70\n",
      "478/478 [==============================] - 0s 429us/step - loss: 0.0061 - acc: 0.9979\n",
      "Epoch 36/70\n",
      "478/478 [==============================] - 0s 451us/step - loss: 0.0117 - acc: 0.9937\n",
      "Epoch 37/70\n",
      "478/478 [==============================] - 0s 452us/step - loss: 0.0053 - acc: 0.9979\n",
      "Epoch 38/70\n",
      "478/478 [==============================] - 0s 425us/step - loss: 0.0019 - acc: 1.0000\n",
      "Epoch 39/70\n",
      "478/478 [==============================] - 0s 424us/step - loss: 0.0057 - acc: 0.9979\n",
      "Epoch 40/70\n",
      "478/478 [==============================] - 0s 430us/step - loss: 0.0033 - acc: 0.9979\n",
      "Epoch 41/70\n",
      "478/478 [==============================] - 0s 419us/step - loss: 0.0021 - acc: 1.0000\n",
      "Epoch 42/70\n",
      "478/478 [==============================] - 0s 430us/step - loss: 7.0226e-04 - acc: 1.0000\n",
      "Epoch 43/70\n",
      "478/478 [==============================] - 0s 426us/step - loss: 3.1651e-04 - acc: 1.0000\n",
      "Epoch 44/70\n",
      "478/478 [==============================] - 0s 430us/step - loss: 0.0029 - acc: 0.9979\n",
      "Epoch 45/70\n",
      "478/478 [==============================] - 0s 421us/step - loss: 0.0017 - acc: 1.0000\n",
      "Epoch 46/70\n",
      "478/478 [==============================] - 0s 422us/step - loss: 8.1055e-04 - acc: 1.0000\n",
      "Epoch 47/70\n",
      "478/478 [==============================] - 0s 562us/step - loss: 0.0011 - acc: 1.0000\n",
      "Epoch 48/70\n",
      "478/478 [==============================] - 0s 415us/step - loss: 3.6070e-04 - acc: 1.0000\n",
      "Epoch 49/70\n",
      "478/478 [==============================] - 0s 500us/step - loss: 1.7634e-04 - acc: 1.0000\n",
      "Epoch 50/70\n",
      "478/478 [==============================] - 0s 635us/step - loss: 6.1383e-05 - acc: 1.0000\n",
      "Epoch 51/70\n",
      "478/478 [==============================] - 0s 601us/step - loss: 4.4965e-05 - acc: 1.0000\n",
      "Epoch 52/70\n",
      "478/478 [==============================] - 0s 576us/step - loss: 1.0397e-04 - acc: 1.0000\n",
      "Epoch 53/70\n",
      "478/478 [==============================] - 0s 409us/step - loss: 9.3692e-05 - acc: 1.0000\n",
      "Epoch 54/70\n",
      "478/478 [==============================] - 0s 413us/step - loss: 1.2250e-04 - acc: 1.0000\n",
      "Epoch 55/70\n",
      "478/478 [==============================] - 0s 417us/step - loss: 2.0872e-05 - acc: 1.0000\n",
      "Epoch 56/70\n",
      "478/478 [==============================] - 0s 496us/step - loss: 3.7440e-05 - acc: 1.0000\n",
      "Epoch 57/70\n",
      "478/478 [==============================] - 0s 589us/step - loss: 2.0439e-05 - acc: 1.0000\n",
      "Epoch 58/70\n",
      "478/478 [==============================] - 0s 438us/step - loss: 1.2201e-05 - acc: 1.0000\n",
      "Epoch 59/70\n",
      "478/478 [==============================] - 0s 422us/step - loss: 2.2892e-05 - acc: 1.0000\n",
      "Epoch 60/70\n",
      "478/478 [==============================] - 0s 419us/step - loss: 4.9780e-05 - acc: 1.0000\n",
      "Epoch 61/70\n",
      "478/478 [==============================] - 0s 423us/step - loss: 1.6997e-05 - acc: 1.0000\n",
      "Epoch 62/70\n",
      "478/478 [==============================] - 0s 539us/step - loss: 4.0130e-05 - acc: 1.0000\n",
      "Epoch 63/70\n",
      "478/478 [==============================] - 0s 461us/step - loss: 3.8909e-05 - acc: 1.0000\n",
      "Epoch 64/70\n",
      "478/478 [==============================] - 0s 490us/step - loss: 1.7147e-05 - acc: 1.0000\n",
      "Epoch 65/70\n",
      "478/478 [==============================] - 0s 547us/step - loss: 4.4574e-05 - acc: 1.0000\n",
      "Epoch 66/70\n",
      "478/478 [==============================] - 0s 411us/step - loss: 5.2532e-05 - acc: 1.0000\n",
      "Epoch 67/70\n",
      "478/478 [==============================] - 0s 433us/step - loss: 3.8891e-05 - acc: 1.0000\n",
      "Epoch 68/70\n",
      "478/478 [==============================] - 0s 417us/step - loss: 1.4231e-04 - acc: 1.0000\n",
      "Epoch 69/70\n",
      "478/478 [==============================] - 0s 417us/step - loss: 1.8256e-05 - acc: 1.0000\n",
      "Epoch 70/70\n",
      "478/478 [==============================] - 0s 466us/step - loss: 1.2220e-04 - acc: 1.0000\n"
     ]
    },
    {
     "data": {
      "text/plain": [
       "<keras.callbacks.History at 0x7f16dafecd68>"
      ]
     },
     "execution_count": 86,
     "metadata": {},
     "output_type": "execute_result"
    }
   ],
   "source": [
    "model = Sequential()\n",
    "\n",
    "model.add(InputLayer(input_shape=[28,28,1]))\n",
    "model.add(Conv2D(filters=32, kernel_size=5, strides=1, padding='same', activation='relu'))\n",
    "model.add(MaxPooling2D(pool_size=5, padding='same', dim_ordering=\"th\"))\n",
    "\n",
    "model.add(Conv2D(filters=50, kernel_size=5, strides=1, padding='same', activation='relu'))\n",
    "model.add(MaxPooling2D(pool_size=5, padding='same', dim_ordering=\"th\"))\n",
    "\n",
    "model.add(Conv2D(filters=80, kernel_size=4, strides=1, padding='same', activation='relu'))\n",
    "model.add(MaxPooling2D(pool_size=5, padding='same', dim_ordering=\"th\"))\n",
    "\n",
    "model.add(Conv2D(filters=100, kernel_size=4, strides=1, padding='same', activation='relu'))\n",
    "model.add(MaxPooling2D(pool_size=5, padding='same', dim_ordering=\"th\"))\n",
    "\n",
    "model.add(Conv2D(filters=100, kernel_size=3, strides=1, padding='same', activation='relu'))\n",
    "model.add(MaxPooling2D(pool_size=5, padding='same', dim_ordering=\"th\"))\n",
    "\n",
    "model.add(Dropout(0.5))\n",
    "model.add(Flatten())  # this converts our 3D feature maps to 1D feature vectors\n",
    "model.add(Dense(512, activation='relu'))\n",
    "model.add(Dropout(rate=0.5))\n",
    "model.add(Dense(2, activation='softmax'))\n",
    "optimizer = Adam(lr=1e-3)\n",
    "\n",
    "model.compile(optimizer=optimizer, loss='categorical_crossentropy', metrics=['accuracy'])\n",
    "model.fit(x=tr_img_data, y= tr_lbl_data, epochs=70, batch_size=100)"
   ]
  },
  {
   "cell_type": "code",
   "execution_count": 87,
   "metadata": {
    "scrolled": true
   },
   "outputs": [
    {
     "data": {
      "image/png": "[encoded data removed]",
      "text/plain": [
       "<Figure size 1008x1008 with 16 Axes>"
      ]
     },
     "metadata": {},
     "output_type": "display_data"
    }
   ],
   "source": [
    "fig = plt.figure(figsize=(14,14))\n",
    "\n",
    "for cnt, data in enumerate(testing_images[0:]):\n",
    "    y = fig.add_subplot(6,5, cnt+1)\n",
    "    img = data[0]\n",
    "    data = img.reshape(1,28,28,1)\n",
    "    model_out = model.predict([data])\n",
    "    \n",
    "    if np.argmax(model_out)==1:\n",
    "        str_label = '0'\n",
    "    else:\n",
    "        str_label = '1'\n",
    "        \n",
    "    y.imshow(img, cmap='gray')\n",
    "    plt.title(str_label)\n",
    "    y.axes.get_xaxis().set_visible(False)\n",
    "    y.axes.get_yaxis().set_visible(False)"
   ]
  },
  {
   "cell_type": "code",
   "execution_count": 88,
   "metadata": {},
   "outputs": [],
   "source": [
    "from image_process import (\n",
    "    threshold,\n",
    "    morphology,\n",
    "    find_contours,\n",
    "    extra_contour_elimination,\n",
    "    crop_contour,\n",
    "    req_contour\n",
    ")\n",
    "import csv\n",
    "import os\n",
    "import cv2\n",
    "import numpy as np"
   ]
  },
  {
   "cell_type": "code",
   "execution_count": 95,
   "metadata": {},
   "outputs": [],
   "source": [
    "dest_dir = 'plot'\n",
    "def plot(filename,file):\n",
    "    img = cv2.imread(filename)\n",
    "#     img = cv2.cvtColor(img, cv2.COLOR_BGR2RGB)\n",
    "    clone = img.copy()\n",
    "    thresh = threshold(img)\n",
    "    img, lines = find_contours(thresh)\n",
    "    final_lines = extra_contour_elimination(lines)\n",
    "    req = []\n",
    "    for i,line in enumerate(final_lines):\n",
    "        L = crop_contour(line,thresh)\n",
    "        img = cv2.resize(L,(28,28))\n",
    "        data = img.reshape(1,28,28,1)\n",
    "        model_out = model.predict([data])\n",
    "\n",
    "        if np.argmax(model_out)==1:\n",
    "            str_label = '0'\n",
    "        else:\n",
    "            str_label = '1'\n",
    "\n",
    "        if str_label=='1':\n",
    "            leftmost = tuple(line[line[:,:,0].argmin()][0])\n",
    "            rightmost = tuple(line[line[:,:,0].argmax()][0])\n",
    "            topmost = tuple(line[line[:,:,1].argmin()][0])\n",
    "            bottommost = tuple(line[line[:,:,1].argmax()][0])\n",
    "            print(file,leftmost, rightmost,topmost,bottommost)\n",
    "            req.append(i)\n",
    "            name = dest_dir+'/'+file\n",
    "#             print(name)\n",
    "            \n",
    "\n",
    "    for index in req:\n",
    "        rect = cv2.minAreaRect(final_lines[index])\n",
    "        box = cv2.boxPoints(rect)\n",
    "        box = np.int0(box)\n",
    "        cv2.drawContours(clone,[box],0,(0,255,0),4)\n",
    "        cv2.imwrite(name,clone)\n"
   ]
  },
  {
   "cell_type": "code",
   "execution_count": 96,
   "metadata": {},
   "outputs": [
    {
     "name": "stdout",
     "output_type": "stream",
     "text": [
      "DSC08876.JPG (4160, 169) (4168, 171) (4160, 169) (4160, 185)\n",
      "DJI_0422.JPG (2585, 2242) (2621, 2251) (2611, 2238) (2594, 2275)\n",
      "DJI_0422.JPG (506, 1612) (527, 1621) (510, 1605) (523, 1622)\n",
      "DJI_0083.JPG (2439, 2059) (2468, 2079) (2457, 2054) (2463, 2080)\n",
      "DJI_0083.JPG (2315, 566) (2342, 587) (2324, 564) (2338, 589)\n",
      "DSC01453.JPG (3109, 1163) (3138, 1180) (3128, 1158) (3133, 1181)\n",
      "M1_F1.3_0405.JPG (982, 2687) (995, 2688) (983, 2685) (982, 2691)\n",
      "M1_F1.3_0405.JPG (647, 1493) (681, 1496) (664, 1478) (676, 1498)\n",
      "DJI_0617.JPG (3775, 30) (3787, 30) (3782, 28) (3777, 40)\n",
      "DJI_0421.JPG (2333, 1119) (2373, 1112) (2360, 1097) (2349, 1148)\n",
      "DJI_0036.JPG (1716, 2593) (1757, 2594) (1742, 2583) (1721, 2633)\n",
      "DJI_0086.JPG (2509, 2438) (2535, 2462) (2522, 2436) (2531, 2462)\n",
      "DJI_0086.JPG (1515, 1500) (1538, 1498) (1534, 1496) (1521, 1512)\n",
      "DJI_0086.JPG (2342, 771) (2369, 791) (2349, 769) (2363, 796)\n",
      "DJI_0086.JPG (2268, 116) (2296, 138) (2287, 113) (2291, 140)\n"
     ]
    }
   ],
   "source": [
    "orig_dir = 'CV-Assignment-Dataset'\n",
    "for file in os.listdir(orig_dir):\n",
    "    path = os.path.join(orig_dir,file)\n",
    "    plot(path,file)"
   ]
  },
  {
   "cell_type": "code",
   "execution_count": null,
   "metadata": {},
   "outputs": [],
   "source": []
  }
 ],
 "metadata": {
  "kernelspec": {
   "display_name": "Python 3",
   "language": "python",
   "name": "python3"
  },
  "language_info": {
   "codemirror_mode": {
    "name": "ipython",
    "version": 3
   },
   "file_extension": ".py",
   "mimetype": "text/x-python",
   "name": "python",
   "nbconvert_exporter": "python",
   "pygments_lexer": "ipython3",
   "version": "3.5.5"
  }
 },
 "nbformat": 4,
 "nbformat_minor": 2
}
