{
 "cells": [
  {
   "cell_type": "code",
   "execution_count": 1,
   "metadata": {},
   "outputs": [],
   "source": [
    "import cv2\n",
    "import numpy as np\n",
    "import os\n",
    "from random import shuffle\n",
    "from tqdm import tqdm\n",
    "import tensorflow as tf\n",
    "import matplotlib.pyplot as plt\n",
    "%matplotlib inline"
   ]
  },
  {
   "cell_type": "code",
   "execution_count": 2,
   "metadata": {},
   "outputs": [],
   "source": [
    "train_data = 'data/train'\n",
    "test_data = 'data/test'"
   ]
  },
  {
   "cell_type": "markdown",
   "metadata": {},
   "source": [
    "Encoding the image with labels for training"
   ]
  },
  {
   "cell_type": "code",
   "execution_count": 3,
   "metadata": {},
   "outputs": [],
   "source": [
    "def one_hot_label(label):\n",
    "    if label=='1':\n",
    "        ohl = np.array([1,0])\n",
    "    elif label == '0':\n",
    "        ohl = np.array([0,1])\n",
    "    return ohl "
   ]
  },
  {
   "cell_type": "code",
   "execution_count": 4,
   "metadata": {},
   "outputs": [],
   "source": [
    "def train_data_with_labels():\n",
    "    train_images = []\n",
    "    for dir in os.listdir('data/train'):\n",
    "        label=str(dir)\n",
    "        print(label)\n",
    "        dir = os.path.join(os.getcwd(),os.path.join('data/train',dir))\n",
    "        for img in os.listdir(dir):\n",
    "            path = os.path.join(dir,img)\n",
    "            img = cv2.imread(path, cv2.IMREAD_GRAYSCALE)\n",
    "            img = cv2.resize(img, (28,28))\n",
    "            train_images.append([np.array(img), one_hot_label(label)])\n",
    "    shuffle(train_images)\n",
    "    return train_images        "
   ]
  },
  {
   "cell_type": "code",
   "execution_count": 5,
   "metadata": {},
   "outputs": [],
   "source": [
    "def test_data_with_labels():\n",
    "    test_images = []\n",
    "    for dir in os.listdir('data/test'):\n",
    "        label=str(dir)\n",
    "        print(label)\n",
    "        dir = os.path.join(os.getcwd(),os.path.join('data/test',dir))\n",
    "        for img in os.listdir(dir):\n",
    "            path = os.path.join(dir,img)\n",
    "            img = cv2.imread(path, cv2.IMREAD_GRAYSCALE)\n",
    "            img = cv2.resize(img, (28,28))\n",
    "            test_images.append([np.array(img), one_hot_label(label)])\n",
    "    shuffle(test_images)\n",
    "    return test_images        "
   ]
  },
  {
   "cell_type": "code",
   "execution_count": 6,
   "metadata": {},
   "outputs": [
    {
     "name": "stderr",
     "output_type": "stream",
     "text": [
      "Using TensorFlow backend.\n"
     ]
    }
   ],
   "source": [
    "from keras.models import Sequential\n",
    "from keras.layers import *\n",
    "from keras.optimizers import *"
   ]
  },
  {
   "cell_type": "code",
   "execution_count": 7,
   "metadata": {},
   "outputs": [
    {
     "name": "stdout",
     "output_type": "stream",
     "text": [
      "0\n",
      "1\n",
      "0\n",
      "1\n"
     ]
    }
   ],
   "source": [
    "training_images = train_data_with_labels()\n",
    "testing_images = test_data_with_labels()\n",
    "tr_img_data = np.array([i[0] for i in training_images]).reshape(-1,28,28,1)\n",
    "tr_lbl_data = np.array([i[1] for i in training_images])\n",
    "tst_img_data = np.array([i[0] for i in testing_images]).reshape(-1,28,28,1)\n",
    "tst_lbl_data = np.array([i[1] for i in testing_images])"
   ]
  },
  {
   "cell_type": "code",
   "execution_count": 8,
   "metadata": {},
   "outputs": [
    {
     "name": "stderr",
     "output_type": "stream",
     "text": [
      "/home/vishnoitanuj/miniconda3/envs/CV/lib/python3.5/site-packages/ipykernel_launcher.py:5: UserWarning: Update your `MaxPooling2D` call to the Keras 2 API: `MaxPooling2D(data_format=\"channels_first\", pool_size=5, padding=\"same\")`\n",
      "  \"\"\"\n",
      "/home/vishnoitanuj/miniconda3/envs/CV/lib/python3.5/site-packages/ipykernel_launcher.py:8: UserWarning: Update your `MaxPooling2D` call to the Keras 2 API: `MaxPooling2D(data_format=\"channels_first\", pool_size=5, padding=\"same\")`\n",
      "  \n",
      "/home/vishnoitanuj/miniconda3/envs/CV/lib/python3.5/site-packages/ipykernel_launcher.py:11: UserWarning: Update your `MaxPooling2D` call to the Keras 2 API: `MaxPooling2D(data_format=\"channels_first\", pool_size=5, padding=\"same\")`\n",
      "  # This is added back by InteractiveShellApp.init_path()\n",
      "/home/vishnoitanuj/miniconda3/envs/CV/lib/python3.5/site-packages/ipykernel_launcher.py:14: UserWarning: Update your `MaxPooling2D` call to the Keras 2 API: `MaxPooling2D(data_format=\"channels_first\", pool_size=5, padding=\"same\")`\n",
      "  \n",
      "/home/vishnoitanuj/miniconda3/envs/CV/lib/python3.5/site-packages/ipykernel_launcher.py:17: UserWarning: Update your `MaxPooling2D` call to the Keras 2 API: `MaxPooling2D(data_format=\"channels_first\", pool_size=5, padding=\"same\")`\n"
     ]
    },
    {
     "name": "stdout",
     "output_type": "stream",
     "text": [
      "Epoch 1/70\n",
      "499/499 [==============================] - 16s 31ms/step - loss: 1.7285 - acc: 0.5251\n",
      "Epoch 2/70\n",
      "499/499 [==============================] - 0s 387us/step - loss: 0.6571 - acc: 0.6092\n",
      "Epoch 3/70\n",
      "499/499 [==============================] - 0s 395us/step - loss: 0.4432 - acc: 0.7936\n",
      "Epoch 4/70\n",
      "499/499 [==============================] - 0s 378us/step - loss: 0.2121 - acc: 0.9279\n",
      "Epoch 5/70\n",
      "499/499 [==============================] - 0s 376us/step - loss: 0.0627 - acc: 0.9820\n",
      "Epoch 6/70\n",
      "499/499 [==============================] - 0s 374us/step - loss: 0.0551 - acc: 0.9880\n",
      "Epoch 7/70\n",
      "499/499 [==============================] - 0s 386us/step - loss: 0.0060 - acc: 0.9980\n",
      "Epoch 8/70\n",
      "499/499 [==============================] - 0s 384us/step - loss: 0.0280 - acc: 0.9920\n",
      "Epoch 9/70\n",
      "499/499 [==============================] - 0s 394us/step - loss: 0.0241 - acc: 0.9940\n",
      "Epoch 10/70\n",
      "499/499 [==============================] - 0s 376us/step - loss: 0.0245 - acc: 0.9980\n",
      "Epoch 11/70\n",
      "499/499 [==============================] - 0s 378us/step - loss: 0.0101 - acc: 0.9940\n",
      "Epoch 12/70\n",
      "499/499 [==============================] - 0s 384us/step - loss: 0.0350 - acc: 0.9840\n",
      "Epoch 13/70\n",
      "499/499 [==============================] - 0s 388us/step - loss: 0.0674 - acc: 0.9840\n",
      "Epoch 14/70\n",
      "499/499 [==============================] - 0s 394us/step - loss: 0.0056 - acc: 0.9980\n",
      "Epoch 15/70\n",
      "499/499 [==============================] - 0s 387us/step - loss: 0.0160 - acc: 0.9940\n",
      "Epoch 16/70\n",
      "499/499 [==============================] - 0s 392us/step - loss: 0.0164 - acc: 0.9920\n",
      "Epoch 17/70\n",
      "499/499 [==============================] - 0s 378us/step - loss: 0.0219 - acc: 0.9920\n",
      "Epoch 18/70\n",
      "499/499 [==============================] - 0s 387us/step - loss: 0.0128 - acc: 0.9940\n",
      "Epoch 19/70\n",
      "499/499 [==============================] - 0s 377us/step - loss: 0.0054 - acc: 0.9980\n",
      "Epoch 20/70\n",
      "499/499 [==============================] - 0s 391us/step - loss: 0.0042 - acc: 0.9980\n",
      "Epoch 21/70\n",
      "499/499 [==============================] - 0s 378us/step - loss: 0.0096 - acc: 0.9960\n",
      "Epoch 22/70\n",
      "499/499 [==============================] - 0s 376us/step - loss: 0.0070 - acc: 0.9980\n",
      "Epoch 23/70\n",
      "499/499 [==============================] - 0s 398us/step - loss: 0.0085 - acc: 0.9980\n",
      "Epoch 24/70\n",
      "499/499 [==============================] - 0s 454us/step - loss: 0.0047 - acc: 1.0000\n",
      "Epoch 25/70\n",
      "499/499 [==============================] - 0s 397us/step - loss: 9.3090e-04 - acc: 1.0000\n",
      "Epoch 26/70\n",
      "499/499 [==============================] - 0s 400us/step - loss: 0.0043 - acc: 0.9980\n",
      "Epoch 27/70\n",
      "499/499 [==============================] - 0s 441us/step - loss: 0.0061 - acc: 0.9960\n",
      "Epoch 28/70\n",
      "499/499 [==============================] - 0s 377us/step - loss: 0.0034 - acc: 0.9980\n",
      "Epoch 29/70\n",
      "499/499 [==============================] - 0s 408us/step - loss: 0.0013 - acc: 1.0000\n",
      "Epoch 30/70\n",
      "499/499 [==============================] - 0s 420us/step - loss: 0.0122 - acc: 0.9980\n",
      "Epoch 31/70\n",
      "499/499 [==============================] - 0s 392us/step - loss: 0.0158 - acc: 0.9940\n",
      "Epoch 32/70\n",
      "499/499 [==============================] - 0s 445us/step - loss: 0.0076 - acc: 0.9960\n",
      "Epoch 33/70\n",
      "499/499 [==============================] - 0s 396us/step - loss: 0.0046 - acc: 1.0000\n",
      "Epoch 34/70\n",
      "499/499 [==============================] - 0s 396us/step - loss: 0.0060 - acc: 0.9980\n",
      "Epoch 35/70\n",
      "499/499 [==============================] - 0s 377us/step - loss: 0.0069 - acc: 0.9980\n",
      "Epoch 36/70\n",
      "499/499 [==============================] - 0s 451us/step - loss: 0.0263 - acc: 0.9940\n",
      "Epoch 37/70\n",
      "499/499 [==============================] - 0s 390us/step - loss: 0.0197 - acc: 0.9980\n",
      "Epoch 38/70\n",
      "499/499 [==============================] - 0s 387us/step - loss: 0.0193 - acc: 0.9920\n",
      "Epoch 39/70\n",
      "499/499 [==============================] - 0s 383us/step - loss: 0.0187 - acc: 0.9940\n",
      "Epoch 40/70\n",
      "499/499 [==============================] - 0s 376us/step - loss: 0.0280 - acc: 0.9880\n",
      "Epoch 41/70\n",
      "499/499 [==============================] - 0s 381us/step - loss: 0.0094 - acc: 0.9980\n",
      "Epoch 42/70\n",
      "499/499 [==============================] - 0s 439us/step - loss: 0.0122 - acc: 0.9960\n",
      "Epoch 43/70\n",
      "499/499 [==============================] - 0s 376us/step - loss: 0.0130 - acc: 0.9980\n",
      "Epoch 44/70\n",
      "499/499 [==============================] - 0s 395us/step - loss: 0.0172 - acc: 0.9920\n",
      "Epoch 45/70\n",
      "499/499 [==============================] - 0s 388us/step - loss: 0.0107 - acc: 0.9980\n",
      "Epoch 46/70\n",
      "499/499 [==============================] - 0s 377us/step - loss: 0.0042 - acc: 0.9980\n",
      "Epoch 47/70\n",
      "499/499 [==============================] - 0s 403us/step - loss: 0.0027 - acc: 1.0000\n",
      "Epoch 48/70\n",
      "499/499 [==============================] - 0s 412us/step - loss: 0.0056 - acc: 0.9980\n",
      "Epoch 49/70\n",
      "499/499 [==============================] - 0s 376us/step - loss: 0.0027 - acc: 0.9980\n",
      "Epoch 50/70\n",
      "499/499 [==============================] - 0s 429us/step - loss: 0.0049 - acc: 0.9980\n",
      "Epoch 51/70\n",
      "499/499 [==============================] - 0s 390us/step - loss: 0.0055 - acc: 0.9980\n",
      "Epoch 52/70\n",
      "499/499 [==============================] - 0s 379us/step - loss: 6.7902e-04 - acc: 1.0000\n",
      "Epoch 53/70\n",
      "499/499 [==============================] - 0s 378us/step - loss: 2.5163e-04 - acc: 1.0000\n",
      "Epoch 54/70\n",
      "499/499 [==============================] - 0s 447us/step - loss: 0.0019 - acc: 1.0000\n",
      "Epoch 55/70\n",
      "499/499 [==============================] - 0s 407us/step - loss: 0.0010 - acc: 1.0000\n",
      "Epoch 56/70\n",
      "499/499 [==============================] - 0s 378us/step - loss: 4.8899e-04 - acc: 1.0000\n",
      "Epoch 57/70\n",
      "499/499 [==============================] - 0s 407us/step - loss: 1.4171e-04 - acc: 1.0000\n",
      "Epoch 58/70\n",
      "499/499 [==============================] - 0s 538us/step - loss: 0.0011 - acc: 1.0000\n",
      "Epoch 59/70\n",
      "499/499 [==============================] - 0s 403us/step - loss: 7.3708e-04 - acc: 1.0000\n",
      "Epoch 60/70\n",
      "499/499 [==============================] - 0s 381us/step - loss: 1.5149e-04 - acc: 1.0000\n",
      "Epoch 61/70\n",
      "499/499 [==============================] - 0s 546us/step - loss: 8.9438e-05 - acc: 1.0000\n",
      "Epoch 62/70\n",
      "499/499 [==============================] - 0s 473us/step - loss: 9.7209e-05 - acc: 1.0000\n",
      "Epoch 63/70\n",
      "499/499 [==============================] - 0s 397us/step - loss: 2.8683e-05 - acc: 1.0000\n",
      "Epoch 64/70\n",
      "499/499 [==============================] - 0s 376us/step - loss: 1.1661e-04 - acc: 1.0000\n",
      "Epoch 65/70\n",
      "499/499 [==============================] - 0s 468us/step - loss: 8.8431e-05 - acc: 1.0000\n",
      "Epoch 66/70\n",
      "499/499 [==============================] - 0s 535us/step - loss: 1.6719e-04 - acc: 1.0000\n",
      "Epoch 67/70\n",
      "499/499 [==============================] - 0s 430us/step - loss: 3.8432e-05 - acc: 1.0000\n",
      "Epoch 68/70\n",
      "499/499 [==============================] - 0s 403us/step - loss: 5.0626e-05 - acc: 1.0000\n",
      "Epoch 69/70\n",
      "499/499 [==============================] - 0s 419us/step - loss: 5.6441e-05 - acc: 1.0000\n",
      "Epoch 70/70\n",
      "499/499 [==============================] - 0s 418us/step - loss: 4.1861e-05 - acc: 1.0000\n"
     ]
    },
    {
     "data": {
      "text/plain": [
       "<keras.callbacks.History at 0x7fe9e807b0b8>"
      ]
     },
     "execution_count": 8,
     "metadata": {},
     "output_type": "execute_result"
    }
   ],
   "source": [
    "model = Sequential()\n",
    "\n",
    "# model.add(InputLayer(input_shape=[28,28,1]))\n",
    "model.add(Conv2D(filters=32, kernel_size=5, strides=1, padding='same', activation='relu',input_shape=(28,28,1)))\n",
    "model.add(MaxPooling2D(pool_size=5, padding='same', dim_ordering=\"th\"))\n",
    "\n",
    "model.add(Conv2D(filters=50, kernel_size=5, strides=1, padding='same', activation='relu'))\n",
    "model.add(MaxPooling2D(pool_size=5, padding='same', dim_ordering=\"th\"))\n",
    "\n",
    "model.add(Conv2D(filters=80, kernel_size=4, strides=1, padding='same', activation='relu'))\n",
    "model.add(MaxPooling2D(pool_size=5, padding='same', dim_ordering=\"th\"))\n",
    "\n",
    "model.add(Conv2D(filters=100, kernel_size=4, strides=1, padding='same', activation='relu'))\n",
    "model.add(MaxPooling2D(pool_size=5, padding='same', dim_ordering=\"th\"))\n",
    "\n",
    "model.add(Conv2D(filters=100, kernel_size=3, strides=1, padding='same', activation='relu'))\n",
    "model.add(MaxPooling2D(pool_size=5, padding='same', dim_ordering=\"th\"))\n",
    "\n",
    "model.add(Dropout(0.5))\n",
    "model.add(Flatten())  # this converts our 3D feature maps to 1D feature vectors\n",
    "model.add(Dense(512, activation='relu'))\n",
    "model.add(Dropout(rate=0.5))\n",
    "model.add(Dense(2, activation='softmax'))\n",
    "optimizer = Adam(lr=1e-3)\n",
    "\n",
    "model.compile(optimizer=optimizer, loss='categorical_crossentropy', metrics=['accuracy'])\n",
    "model.fit(x=tr_img_data, y= tr_lbl_data, epochs=70, batch_size=100)"
   ]
  },
  {
   "cell_type": "code",
   "execution_count": 10,
   "metadata": {},
   "outputs": [
    {
     "name": "stdout",
     "output_type": "stream",
     "text": [
      "_________________________________________________________________\n",
      "Layer (type)                 Output Shape              Param #   \n",
      "=================================================================\n",
      "conv2d_1 (Conv2D)            (None, 28, 28, 32)        832       \n",
      "_________________________________________________________________\n",
      "max_pooling2d_1 (MaxPooling2 (None, 28, 6, 7)          0         \n",
      "_________________________________________________________________\n",
      "conv2d_2 (Conv2D)            (None, 28, 6, 50)         8800      \n",
      "_________________________________________________________________\n",
      "max_pooling2d_2 (MaxPooling2 (None, 28, 2, 10)         0         \n",
      "_________________________________________________________________\n",
      "conv2d_3 (Conv2D)            (None, 28, 2, 80)         12880     \n",
      "_________________________________________________________________\n",
      "max_pooling2d_3 (MaxPooling2 (None, 28, 1, 16)         0         \n",
      "_________________________________________________________________\n",
      "conv2d_4 (Conv2D)            (None, 28, 1, 100)        25700     \n",
      "_________________________________________________________________\n",
      "max_pooling2d_4 (MaxPooling2 (None, 28, 1, 20)         0         \n",
      "_________________________________________________________________\n",
      "conv2d_5 (Conv2D)            (None, 28, 1, 100)        18100     \n",
      "_________________________________________________________________\n",
      "max_pooling2d_5 (MaxPooling2 (None, 28, 1, 20)         0         \n",
      "_________________________________________________________________\n",
      "dropout_1 (Dropout)          (None, 28, 1, 20)         0         \n",
      "_________________________________________________________________\n",
      "flatten_1 (Flatten)          (None, 560)               0         \n",
      "_________________________________________________________________\n",
      "dense_1 (Dense)              (None, 512)               287232    \n",
      "_________________________________________________________________\n",
      "dropout_2 (Dropout)          (None, 512)               0         \n",
      "_________________________________________________________________\n",
      "dense_2 (Dense)              (None, 2)                 1026      \n",
      "=================================================================\n",
      "Total params: 354,570\n",
      "Trainable params: 354,570\n",
      "Non-trainable params: 0\n",
      "_________________________________________________________________\n"
     ]
    }
   ],
   "source": [
    "model.summary()"
   ]
  },
  {
   "cell_type": "code",
   "execution_count": 11,
   "metadata": {
    "scrolled": true
   },
   "outputs": [
    {
     "data": {
      "image/png": "[encoded data removed]",
      "text/plain": [
       "<Figure size 1008x1008 with 16 Axes>"
      ]
     },
     "metadata": {},
     "output_type": "display_data"
    }
   ],
   "source": [
    "fig = plt.figure(figsize=(14,14))\n",
    "\n",
    "for cnt, data in enumerate(testing_images[0:]):\n",
    "    y = fig.add_subplot(6,5, cnt+1)\n",
    "    img = data[0]\n",
    "    data = img.reshape(1,28,28,1)\n",
    "    model_out = model.predict([data])\n",
    "    \n",
    "    if np.argmax(model_out)==1:\n",
    "        str_label = '0'\n",
    "    else:\n",
    "        str_label = '1'\n",
    "        \n",
    "    y.imshow(img, cmap='gray')\n",
    "    plt.title(str_label)\n",
    "    y.axes.get_xaxis().set_visible(False)\n",
    "    y.axes.get_yaxis().set_visible(False)"
   ]
  },
  {
   "cell_type": "code",
   "execution_count": 12,
   "metadata": {},
   "outputs": [],
   "source": [
    "model.save('model.hdf5')"
   ]
  },
  {
   "cell_type": "markdown",
   "metadata": {},
   "source": [
    "## Plotting bounding box of detected images in 'plot' directory\n",
    "\n",
    "#### For testing purposes only"
   ]
  },
  {
   "cell_type": "code",
   "execution_count": 13,
   "metadata": {},
   "outputs": [],
   "source": [
    "from image_process import (\n",
    "    threshold,\n",
    "    morphology,\n",
    "    find_contours,\n",
    "    extra_contour_elimination,\n",
    "    crop_contour,\n",
    "    req_contour\n",
    ")\n",
    "import csv\n",
    "import os\n",
    "import cv2\n",
    "import numpy as np"
   ]
  },
  {
   "cell_type": "code",
   "execution_count": 16,
   "metadata": {},
   "outputs": [],
   "source": [
    "dest_dir = 'plot'\n",
    "def plot(filename,file):\n",
    "    img = cv2.imread(filename)\n",
    "#     img = cv2.cvtColor(img, cv2.COLOR_BGR2RGB)\n",
    "    clone = img.copy()\n",
    "    thresh = threshold(img)\n",
    "    img, lines = find_contours(thresh)\n",
    "    final_lines = extra_contour_elimination(lines)\n",
    "    req = []\n",
    "    contour = []\n",
    "    for i,line in enumerate(final_lines):\n",
    "        L = crop_contour(line,thresh)\n",
    "        img = cv2.resize(L,(28,28))\n",
    "        data = img.reshape(1,28,28,1)\n",
    "        model_out = model.predict([data])\n",
    "\n",
    "        if np.argmax(model_out)==1:\n",
    "            str_label = '0'\n",
    "        else:\n",
    "            str_label = '1'\n",
    "\n",
    "        if str_label=='1':\n",
    "            print(file)\n",
    "            req.append(i)\n",
    "            contour.append([file,line])\n",
    "            name = dest_dir+'/'+file\n",
    "#             print(name)\n",
    "            \n",
    "\n",
    "    for index in req:\n",
    "        rect = cv2.minAreaRect(final_lines[index])\n",
    "        box = cv2.boxPoints(rect)\n",
    "        box = np.int0(box)\n",
    "        cv2.drawContours(clone,[box],0,(0,255,0),2)\n",
    "        cv2.imwrite(name,clone)\n",
    "    return contour"
   ]
  },
  {
   "cell_type": "code",
   "execution_count": 17,
   "metadata": {},
   "outputs": [
    {
     "name": "stdout",
     "output_type": "stream",
     "text": [
      "DJI_0422.JPG\n",
      "DJI_0083.JPG\n",
      "DJI_0083.JPG\n",
      "DSC01453.JPG\n",
      "M1_F1.3_0405.JPG\n",
      "M1_F1.3_0405.JPG\n",
      "DJI_0617.JPG\n",
      "DJI_0421.JPG\n",
      "DJI_0036.JPG\n",
      "DJI_0086.JPG\n",
      "DJI_0086.JPG\n",
      "DJI_0086.JPG\n"
     ]
    }
   ],
   "source": [
    "orig_dir = 'CV-Assignment-Dataset'\n",
    "for file in os.listdir(orig_dir):\n",
    "    path = os.path.join(orig_dir,file)\n",
    "    contour = plot(path,file)"
   ]
  },
  {
   "cell_type": "code",
   "execution_count": null,
   "metadata": {},
   "outputs": [],
   "source": []
  }
 ],
 "metadata": {
  "kernelspec": {
   "display_name": "Python 3",
   "language": "python",
   "name": "python3"
  },
  "language_info": {
   "codemirror_mode": {
    "name": "ipython",
    "version": 3
   },
   "file_extension": ".py",
   "mimetype": "text/x-python",
   "name": "python",
   "nbconvert_exporter": "python",
   "pygments_lexer": "ipython3",
   "version": "3.5.5"
  }
 },
 "nbformat": 4,
 "nbformat_minor": 2
}
