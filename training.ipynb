{
 "cells": [
  {
   "cell_type": "code",
   "execution_count": 1,
   "metadata": {},
   "outputs": [],
   "source": [
    "import cv2\n",
    "import numpy as np\n",
    "import os\n",
    "from random import shuffle\n",
    "from tqdm import tqdm\n",
    "import tensorflow as tf\n",
    "import matplotlib.pyplot as plt\n",
    "%matplotlib inline"
   ]
  },
  {
   "cell_type": "code",
   "execution_count": 2,
   "metadata": {},
   "outputs": [],
   "source": [
    "train_data = 'data/train'\n",
    "test_data = 'data/test'"
   ]
  },
  {
   "cell_type": "code",
   "execution_count": 16,
   "metadata": {},
   "outputs": [],
   "source": [
    "def one_hot_label(label):\n",
    "    if label=='1':\n",
    "        ohl = np.array([1,0])\n",
    "    elif label == '0':\n",
    "        ohl = np.array([0,1])\n",
    "    return ohl "
   ]
  },
  {
   "cell_type": "code",
   "execution_count": 17,
   "metadata": {},
   "outputs": [],
   "source": [
    "def train_data_with_labels():\n",
    "    train_images = []\n",
    "    for dir in os.listdir('data/train'):\n",
    "        label=str(dir)\n",
    "        print(label)\n",
    "        dir = os.path.join(os.getcwd(),os.path.join('data/train',dir))\n",
    "        for img in os.listdir(dir):\n",
    "            path = os.path.join(dir,img)\n",
    "            img = cv2.imread(path, cv2.IMREAD_GRAYSCALE)\n",
    "            img = cv2.resize(img, (28,28))\n",
    "            train_images.append([np.array(img), one_hot_label(label)])\n",
    "    shuffle(train_images)\n",
    "    return train_images        "
   ]
  },
  {
   "cell_type": "code",
   "execution_count": 20,
   "metadata": {},
   "outputs": [],
   "source": [
    "def test_data_with_labels():\n",
    "    test_images = []\n",
    "    for dir in os.listdir('data/test'):\n",
    "        label=str(dir)\n",
    "        print(label)\n",
    "        dir = os.path.join(os.getcwd(),os.path.join('data/test',dir))\n",
    "        for img in os.listdir(dir):\n",
    "            path = os.path.join(dir,img)\n",
    "            img = cv2.imread(path, cv2.IMREAD_GRAYSCALE)\n",
    "            img = cv2.resize(img, (28,28))\n",
    "            test_images.append([np.array(img), one_hot_label(label)])\n",
    "    shuffle(test_images)\n",
    "    return test_images        "
   ]
  },
  {
   "cell_type": "code",
   "execution_count": 22,
   "metadata": {},
   "outputs": [
    {
     "name": "stderr",
     "output_type": "stream",
     "text": [
      "Using TensorFlow backend.\n"
     ]
    }
   ],
   "source": [
    "from keras.models import Sequential\n",
    "from keras.layers import *\n",
    "from keras.optimizers import *"
   ]
  },
  {
   "cell_type": "code",
   "execution_count": 25,
   "metadata": {},
   "outputs": [
    {
     "name": "stdout",
     "output_type": "stream",
     "text": [
      "0\n",
      "1\n",
      "0\n",
      "1\n"
     ]
    }
   ],
   "source": [
    "training_images = train_data_with_labels()\n",
    "testing_images = test_data_with_labels()\n",
    "tr_img_data = np.array([i[0] for i in training_images]).reshape(-1,28,28,1)\n",
    "tr_lbl_data = np.array([i[1] for i in training_images])\n",
    "tst_img_data = np.array([i[0] for i in testing_images]).reshape(-1,28,28,1)\n",
    "tst_lbl_data = np.array([i[1] for i in testing_images])"
   ]
  },
  {
   "cell_type": "code",
   "execution_count": 28,
   "metadata": {},
   "outputs": [
    {
     "name": "stderr",
     "output_type": "stream",
     "text": [
      "/home/vishnoitanuj/miniconda3/envs/CV/lib/python3.5/site-packages/ipykernel_launcher.py:5: UserWarning: Update your `MaxPooling2D` call to the Keras 2 API: `MaxPooling2D(padding=\"same\", data_format=\"channels_first\", pool_size=5)`\n",
      "  \"\"\"\n",
      "/home/vishnoitanuj/miniconda3/envs/CV/lib/python3.5/site-packages/ipykernel_launcher.py:8: UserWarning: Update your `MaxPooling2D` call to the Keras 2 API: `MaxPooling2D(padding=\"same\", data_format=\"channels_first\", pool_size=5)`\n",
      "  \n",
      "/home/vishnoitanuj/miniconda3/envs/CV/lib/python3.5/site-packages/ipykernel_launcher.py:11: UserWarning: Update your `MaxPooling2D` call to the Keras 2 API: `MaxPooling2D(padding=\"same\", data_format=\"channels_first\", pool_size=5)`\n",
      "  # This is added back by InteractiveShellApp.init_path()\n"
     ]
    },
    {
     "name": "stdout",
     "output_type": "stream",
     "text": [
      "Epoch 1/50\n",
      "460/460 [==============================] - 6s 14ms/step - loss: 5.0445 - acc: 0.6304\n",
      "Epoch 2/50\n",
      "460/460 [==============================] - 0s 493us/step - loss: 2.4122 - acc: 0.7804\n",
      "Epoch 3/50\n",
      "460/460 [==============================] - 0s 474us/step - loss: 1.4142 - acc: 0.8674\n",
      "Epoch 4/50\n",
      "460/460 [==============================] - 0s 498us/step - loss: 0.4127 - acc: 0.9500\n",
      "Epoch 5/50\n",
      "460/460 [==============================] - 0s 382us/step - loss: 0.4883 - acc: 0.9609\n",
      "Epoch 6/50\n",
      "460/460 [==============================] - 0s 416us/step - loss: 0.3860 - acc: 0.9761\n",
      "Epoch 7/50\n",
      "460/460 [==============================] - 0s 489us/step - loss: 0.3617 - acc: 0.9739\n",
      "Epoch 8/50\n",
      "460/460 [==============================] - 0s 479us/step - loss: 0.3628 - acc: 0.9717\n",
      "Epoch 9/50\n",
      "460/460 [==============================] - 0s 442us/step - loss: 0.3154 - acc: 0.9804\n",
      "Epoch 10/50\n",
      "460/460 [==============================] - 0s 390us/step - loss: 0.3404 - acc: 0.9717\n",
      "Epoch 11/50\n",
      "460/460 [==============================] - 0s 445us/step - loss: 0.2729 - acc: 0.9804\n",
      "Epoch 12/50\n",
      "460/460 [==============================] - 0s 466us/step - loss: 0.2779 - acc: 0.9804\n",
      "Epoch 13/50\n",
      "460/460 [==============================] - 0s 457us/step - loss: 0.2814 - acc: 0.9783\n",
      "Epoch 14/50\n",
      "460/460 [==============================] - 0s 566us/step - loss: 0.2642 - acc: 0.9826\n",
      "Epoch 15/50\n",
      "460/460 [==============================] - 0s 560us/step - loss: 0.2533 - acc: 0.9826\n",
      "Epoch 16/50\n",
      "460/460 [==============================] - 0s 470us/step - loss: 0.2497 - acc: 0.9826\n",
      "Epoch 17/50\n",
      "460/460 [==============================] - 0s 506us/step - loss: 0.2775 - acc: 0.9826\n",
      "Epoch 18/50\n",
      "460/460 [==============================] - 0s 512us/step - loss: 0.2740 - acc: 0.9826\n",
      "Epoch 19/50\n",
      "460/460 [==============================] - 0s 575us/step - loss: 0.2442 - acc: 0.9826\n",
      "Epoch 20/50\n",
      "460/460 [==============================] - 0s 468us/step - loss: 0.2425 - acc: 0.9783\n",
      "Epoch 21/50\n",
      "460/460 [==============================] - 0s 392us/step - loss: 0.3009 - acc: 0.9717\n",
      "Epoch 22/50\n",
      "460/460 [==============================] - 0s 595us/step - loss: 0.0863 - acc: 0.9935\n",
      "Epoch 23/50\n",
      "460/460 [==============================] - 0s 446us/step - loss: 0.1482 - acc: 0.9870\n",
      "Epoch 24/50\n",
      "460/460 [==============================] - 0s 455us/step - loss: 0.1070 - acc: 0.9891\n",
      "Epoch 25/50\n",
      "460/460 [==============================] - 0s 405us/step - loss: 0.0708 - acc: 0.9935\n",
      "Epoch 26/50\n",
      "460/460 [==============================] - 0s 454us/step - loss: 0.0652 - acc: 0.9913\n",
      "Epoch 27/50\n",
      "460/460 [==============================] - 0s 461us/step - loss: 0.0580 - acc: 0.9957\n",
      "Epoch 28/50\n",
      "460/460 [==============================] - 0s 412us/step - loss: 0.0844 - acc: 0.9804\n",
      "Epoch 29/50\n",
      "460/460 [==============================] - 0s 419us/step - loss: 0.0512 - acc: 0.9935\n",
      "Epoch 30/50\n",
      "460/460 [==============================] - 0s 465us/step - loss: 0.0365 - acc: 0.9978\n",
      "Epoch 31/50\n",
      "460/460 [==============================] - 0s 391us/step - loss: 0.0351 - acc: 0.9978\n",
      "Epoch 32/50\n",
      "460/460 [==============================] - 0s 429us/step - loss: 0.0357 - acc: 0.9978\n",
      "Epoch 33/50\n",
      "460/460 [==============================] - 0s 499us/step - loss: 0.0513 - acc: 0.9957\n",
      "Epoch 34/50\n",
      "460/460 [==============================] - 0s 585us/step - loss: 0.0487 - acc: 0.9957\n",
      "Epoch 35/50\n",
      "460/460 [==============================] - 0s 613us/step - loss: 0.0352 - acc: 0.9978\n",
      "Epoch 36/50\n",
      "460/460 [==============================] - 0s 504us/step - loss: 0.0350 - acc: 0.9978\n",
      "Epoch 37/50\n",
      "460/460 [==============================] - 0s 379us/step - loss: 0.0350 - acc: 0.9978\n",
      "Epoch 38/50\n",
      "460/460 [==============================] - 0s 430us/step - loss: 0.0352 - acc: 0.9978\n",
      "Epoch 39/50\n",
      "460/460 [==============================] - 0s 414us/step - loss: 0.0350 - acc: 0.9978\n",
      "Epoch 40/50\n",
      "460/460 [==============================] - 0s 466us/step - loss: 0.0253 - acc: 0.9978\n",
      "Epoch 41/50\n",
      "460/460 [==============================] - 0s 467us/step - loss: 0.0167 - acc: 0.9978\n",
      "Epoch 42/50\n",
      "460/460 [==============================] - 0s 419us/step - loss: 0.0141 - acc: 0.9978\n",
      "Epoch 43/50\n",
      "460/460 [==============================] - 0s 458us/step - loss: 0.0243 - acc: 0.9913\n",
      "Epoch 44/50\n",
      "460/460 [==============================] - 0s 547us/step - loss: 0.0082 - acc: 0.9957\n",
      "Epoch 45/50\n",
      "460/460 [==============================] - 0s 551us/step - loss: 4.2706e-04 - acc: 1.0000\n",
      "Epoch 46/50\n",
      "460/460 [==============================] - 0s 393us/step - loss: 0.0149 - acc: 0.9978\n",
      "Epoch 47/50\n",
      "460/460 [==============================] - 0s 433us/step - loss: 0.0055 - acc: 0.9978\n",
      "Epoch 48/50\n",
      "460/460 [==============================] - 0s 450us/step - loss: 0.0076 - acc: 0.9957\n",
      "Epoch 49/50\n",
      "460/460 [==============================] - 0s 607us/step - loss: 0.0100 - acc: 0.9957\n",
      "Epoch 50/50\n",
      "460/460 [==============================] - 0s 607us/step - loss: 0.0025 - acc: 0.9978\n",
      "_________________________________________________________________\n",
      "Layer (type)                 Output Shape              Param #   \n",
      "=================================================================\n",
      "conv2d_4 (Conv2D)            (None, 28, 28, 32)        832       \n",
      "_________________________________________________________________\n",
      "max_pooling2d_4 (MaxPooling2 (None, 28, 6, 7)          0         \n",
      "_________________________________________________________________\n",
      "conv2d_5 (Conv2D)            (None, 28, 6, 50)         8800      \n",
      "_________________________________________________________________\n",
      "max_pooling2d_5 (MaxPooling2 (None, 28, 2, 10)         0         \n",
      "_________________________________________________________________\n",
      "conv2d_6 (Conv2D)            (None, 28, 2, 80)         20080     \n",
      "_________________________________________________________________\n",
      "max_pooling2d_6 (MaxPooling2 (None, 28, 1, 16)         0         \n",
      "_________________________________________________________________\n",
      "dropout_3 (Dropout)          (None, 28, 1, 16)         0         \n",
      "_________________________________________________________________\n",
      "flatten_2 (Flatten)          (None, 448)               0         \n",
      "_________________________________________________________________\n",
      "dense_3 (Dense)              (None, 512)               229888    \n",
      "_________________________________________________________________\n",
      "dropout_4 (Dropout)          (None, 512)               0         \n",
      "_________________________________________________________________\n",
      "dense_4 (Dense)              (None, 2)                 1026      \n",
      "=================================================================\n",
      "Total params: 260,626\n",
      "Trainable params: 260,626\n",
      "Non-trainable params: 0\n",
      "_________________________________________________________________\n"
     ]
    }
   ],
   "source": [
    "model = Sequential()\n",
    "\n",
    "model.add(InputLayer(input_shape=[28,28,1]))\n",
    "model.add(Conv2D(filters=32, kernel_size=5, strides=1, padding='same', activation='relu'))\n",
    "model.add(MaxPooling2D(pool_size=5, padding='same', dim_ordering=\"th\"))\n",
    "\n",
    "model.add(Conv2D(filters=50, kernel_size=5, strides=1, padding='same', activation='relu'))\n",
    "model.add(MaxPooling2D(pool_size=5, padding='same', dim_ordering=\"th\"))\n",
    "\n",
    "model.add(Conv2D(filters=80, kernel_size=5, strides=1, padding='same', activation='relu'))\n",
    "model.add(MaxPooling2D(pool_size=5, padding='same', dim_ordering=\"th\"))\n",
    "\n",
    "model.add(Dropout(0.25))\n",
    "model.add(Flatten())  # this converts our 3D feature maps to 1D feature vectors\n",
    "model.add(Dense(512, activation='relu'))\n",
    "model.add(Dropout(rate=0.5))\n",
    "model.add(Dense(2, activation='softmax'))\n",
    "optimizer = Adam(lr=1e-3)\n",
    "\n",
    "model.compile(optimizer=optimizer, loss='categorical_crossentropy', metrics=['accuracy'])\n",
    "model.fit(x=tr_img_data, y= tr_lbl_data, epochs=50, batch_size=100)\n",
    "model.summary()"
   ]
  },
  {
   "cell_type": "code",
   "execution_count": 33,
   "metadata": {
    "scrolled": true
   },
   "outputs": [
    {
     "data": {
      "image/png": "[encoded data removed]",
      "text/plain": [
       "<Figure size 1008x1008 with 20 Axes>"
      ]
     },
     "metadata": {},
     "output_type": "display_data"
    }
   ],
   "source": [
    "fig = plt.figure(figsize=(14,14))\n",
    "\n",
    "for cnt, data in enumerate(testing_images[0:]):\n",
    "    y = fig.add_subplot(6,5, cnt+1)\n",
    "    img = data[0]\n",
    "    data = img.reshape(1,28,28,1)\n",
    "    model_out = model.predict([data])\n",
    "    \n",
    "    if np.argmax(model_out)==1:\n",
    "        str_label = '0'\n",
    "    else:\n",
    "        str_label = '1'\n",
    "        \n",
    "    y.imshow(img, cmap='gray')\n",
    "    plt.title(str_label)\n",
    "    y.axes.get_xaxis().set_visible(False)\n",
    "    y.axes.get_yaxis().set_visible(False)"
   ]
  },
  {
   "cell_type": "code",
   "execution_count": 32,
   "metadata": {},
   "outputs": [],
   "source": [
    "model.save('happy.h5')"
   ]
  },
  {
   "cell_type": "code",
   "execution_count": null,
   "metadata": {},
   "outputs": [],
   "source": []
  }
 ],
 "metadata": {
  "kernelspec": {
   "display_name": "Python 3",
   "language": "python",
   "name": "python3"
  },
  "language_info": {
   "codemirror_mode": {
    "name": "ipython",
    "version": 3
   },
   "file_extension": ".py",
   "mimetype": "text/x-python",
   "name": "python",
   "nbconvert_exporter": "python",
   "pygments_lexer": "ipython3",
   "version": "3.5.5"
  }
 },
 "nbformat": 4,
 "nbformat_minor": 2
}
