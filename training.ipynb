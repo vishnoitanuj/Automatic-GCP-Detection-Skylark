{
 "cells": [
  {
   "cell_type": "code",
   "execution_count": 24,
   "metadata": {},
   "outputs": [],
   "source": [
    "import cv2\n",
    "import numpy as np\n",
    "import os\n",
    "from random import shuffle\n",
    "from tqdm import tqdm\n",
    "import tensorflow as tf\n",
    "import matplotlib.pyplot as plt\n",
    "%matplotlib inline"
   ]
  },
  {
   "cell_type": "code",
   "execution_count": 25,
   "metadata": {},
   "outputs": [],
   "source": [
    "train_data = 'data/train'\n",
    "test_data = 'data/test'"
   ]
  },
  {
   "cell_type": "code",
   "execution_count": 26,
   "metadata": {},
   "outputs": [],
   "source": [
    "def one_hot_label(label):\n",
    "    if label=='1':\n",
    "        ohl = np.array([1,0])\n",
    "    elif label == '0':\n",
    "        ohl = np.array([0,1])\n",
    "    return ohl "
   ]
  },
  {
   "cell_type": "code",
   "execution_count": 27,
   "metadata": {},
   "outputs": [],
   "source": [
    "def train_data_with_labels():\n",
    "    train_images = []\n",
    "    for dir in os.listdir('data/train'):\n",
    "        label=str(dir)\n",
    "        print(label)\n",
    "        dir = os.path.join(os.getcwd(),os.path.join('data/train',dir))\n",
    "        for img in os.listdir(dir):\n",
    "            path = os.path.join(dir,img)\n",
    "            img = cv2.imread(path, cv2.IMREAD_GRAYSCALE)\n",
    "            img = cv2.resize(img, (28,28))\n",
    "            train_images.append([np.array(img), one_hot_label(label)])\n",
    "    shuffle(train_images)\n",
    "    return train_images        "
   ]
  },
  {
   "cell_type": "code",
   "execution_count": 28,
   "metadata": {},
   "outputs": [],
   "source": [
    "def test_data_with_labels():\n",
    "    test_images = []\n",
    "    for dir in os.listdir('data/test'):\n",
    "        label=str(dir)\n",
    "        print(label)\n",
    "        dir = os.path.join(os.getcwd(),os.path.join('data/test',dir))\n",
    "        for img in os.listdir(dir):\n",
    "            path = os.path.join(dir,img)\n",
    "            img = cv2.imread(path, cv2.IMREAD_GRAYSCALE)\n",
    "            img = cv2.resize(img, (28,28))\n",
    "            test_images.append([np.array(img), one_hot_label(label)])\n",
    "    shuffle(test_images)\n",
    "    return test_images        "
   ]
  },
  {
   "cell_type": "code",
   "execution_count": 29,
   "metadata": {},
   "outputs": [],
   "source": [
    "from keras.models import Sequential\n",
    "from keras.layers import *\n",
    "from keras.optimizers import *"
   ]
  },
  {
   "cell_type": "code",
   "execution_count": 30,
   "metadata": {},
   "outputs": [
    {
     "name": "stdout",
     "output_type": "stream",
     "text": [
      "0\n",
      "1\n",
      "0\n",
      "1\n"
     ]
    }
   ],
   "source": [
    "training_images = train_data_with_labels()\n",
    "testing_images = test_data_with_labels()\n",
    "tr_img_data = np.array([i[0] for i in training_images]).reshape(-1,28,28,1)\n",
    "tr_lbl_data = np.array([i[1] for i in training_images])\n",
    "tst_img_data = np.array([i[0] for i in testing_images]).reshape(-1,28,28,1)\n",
    "tst_lbl_data = np.array([i[1] for i in testing_images])"
   ]
  },
  {
   "cell_type": "code",
   "execution_count": 31,
   "metadata": {},
   "outputs": [
    {
     "name": "stderr",
     "output_type": "stream",
     "text": [
      "/home/vishnoitanuj/miniconda3/envs/CV/lib/python3.5/site-packages/ipykernel_launcher.py:5: UserWarning: Update your `MaxPooling2D` call to the Keras 2 API: `MaxPooling2D(data_format=\"channels_first\", pool_size=5, padding=\"same\")`\n",
      "  \"\"\"\n",
      "/home/vishnoitanuj/miniconda3/envs/CV/lib/python3.5/site-packages/ipykernel_launcher.py:8: UserWarning: Update your `MaxPooling2D` call to the Keras 2 API: `MaxPooling2D(data_format=\"channels_first\", pool_size=5, padding=\"same\")`\n",
      "  \n",
      "/home/vishnoitanuj/miniconda3/envs/CV/lib/python3.5/site-packages/ipykernel_launcher.py:11: UserWarning: Update your `MaxPooling2D` call to the Keras 2 API: `MaxPooling2D(data_format=\"channels_first\", pool_size=5, padding=\"same\")`\n",
      "  # This is added back by InteractiveShellApp.init_path()\n"
     ]
    },
    {
     "name": "stdout",
     "output_type": "stream",
     "text": [
      "Epoch 1/50\n",
      "482/482 [==============================] - 2s 4ms/step - loss: 5.3993 - acc: 0.5871\n",
      "Epoch 2/50\n",
      "482/482 [==============================] - 0s 406us/step - loss: 4.1333 - acc: 0.5954\n",
      "Epoch 3/50\n",
      "482/482 [==============================] - 0s 425us/step - loss: 2.1077 - acc: 0.7324\n",
      "Epoch 4/50\n",
      "482/482 [==============================] - 0s 413us/step - loss: 0.4136 - acc: 0.9149\n",
      "Epoch 5/50\n",
      "482/482 [==============================] - 0s 425us/step - loss: 0.2198 - acc: 0.9440\n",
      "Epoch 6/50\n",
      "482/482 [==============================] - 0s 414us/step - loss: 0.0836 - acc: 0.9793\n",
      "Epoch 7/50\n",
      "482/482 [==============================] - 0s 550us/step - loss: 0.0506 - acc: 0.9772\n",
      "Epoch 8/50\n",
      "482/482 [==============================] - 0s 601us/step - loss: 0.0425 - acc: 0.9813\n",
      "Epoch 9/50\n",
      "482/482 [==============================] - 0s 671us/step - loss: 0.0112 - acc: 1.0000\n",
      "Epoch 10/50\n",
      "482/482 [==============================] - 0s 612us/step - loss: 0.0135 - acc: 0.9959\n",
      "Epoch 11/50\n",
      "482/482 [==============================] - 0s 475us/step - loss: 0.0117 - acc: 0.9917\n",
      "Epoch 12/50\n",
      "482/482 [==============================] - 0s 498us/step - loss: 0.0158 - acc: 0.9959\n",
      "Epoch 13/50\n",
      "482/482 [==============================] - 0s 417us/step - loss: 0.0069 - acc: 0.9959\n",
      "Epoch 14/50\n",
      "482/482 [==============================] - 0s 595us/step - loss: 0.0024 - acc: 1.0000\n",
      "Epoch 15/50\n",
      "482/482 [==============================] - 0s 579us/step - loss: 0.0022 - acc: 1.0000\n",
      "Epoch 16/50\n",
      "482/482 [==============================] - 0s 505us/step - loss: 0.0024 - acc: 1.0000\n",
      "Epoch 17/50\n",
      "482/482 [==============================] - 0s 419us/step - loss: 0.0024 - acc: 1.0000\n",
      "Epoch 18/50\n",
      "482/482 [==============================] - 0s 412us/step - loss: 0.0021 - acc: 1.0000\n",
      "Epoch 19/50\n",
      "482/482 [==============================] - 0s 450us/step - loss: 0.0014 - acc: 1.0000\n",
      "Epoch 20/50\n",
      "482/482 [==============================] - 0s 537us/step - loss: 0.0013 - acc: 1.0000\n",
      "Epoch 21/50\n",
      "482/482 [==============================] - 0s 412us/step - loss: 0.0032 - acc: 1.0000\n",
      "Epoch 22/50\n",
      "482/482 [==============================] - 0s 433us/step - loss: 5.9013e-04 - acc: 1.0000\n",
      "Epoch 23/50\n",
      "482/482 [==============================] - 0s 444us/step - loss: 0.0014 - acc: 1.0000\n",
      "Epoch 24/50\n",
      "482/482 [==============================] - 0s 423us/step - loss: 1.8317e-04 - acc: 1.0000\n",
      "Epoch 25/50\n",
      "482/482 [==============================] - 0s 398us/step - loss: 2.8715e-04 - acc: 1.0000\n",
      "Epoch 26/50\n",
      "482/482 [==============================] - 0s 436us/step - loss: 5.5867e-04 - acc: 1.0000\n",
      "Epoch 27/50\n",
      "482/482 [==============================] - 0s 396us/step - loss: 2.5074e-04 - acc: 1.0000\n",
      "Epoch 28/50\n",
      "482/482 [==============================] - 0s 425us/step - loss: 7.4612e-04 - acc: 1.0000\n",
      "Epoch 29/50\n",
      "482/482 [==============================] - 0s 473us/step - loss: 6.5355e-04 - acc: 1.0000\n",
      "Epoch 30/50\n",
      "482/482 [==============================] - 0s 430us/step - loss: 0.0010 - acc: 1.0000\n",
      "Epoch 31/50\n",
      "482/482 [==============================] - 0s 437us/step - loss: 3.1434e-04 - acc: 1.0000\n",
      "Epoch 32/50\n",
      "482/482 [==============================] - 0s 427us/step - loss: 7.9997e-04 - acc: 1.0000\n",
      "Epoch 33/50\n",
      "482/482 [==============================] - 0s 420us/step - loss: 2.1210e-04 - acc: 1.0000\n",
      "Epoch 34/50\n",
      "482/482 [==============================] - 0s 441us/step - loss: 4.2838e-04 - acc: 1.0000\n",
      "Epoch 35/50\n",
      "482/482 [==============================] - 0s 442us/step - loss: 1.5835e-04 - acc: 1.0000\n",
      "Epoch 36/50\n",
      "482/482 [==============================] - 0s 435us/step - loss: 2.0421e-04 - acc: 1.0000\n",
      "Epoch 37/50\n",
      "482/482 [==============================] - 0s 440us/step - loss: 1.9391e-04 - acc: 1.0000\n",
      "Epoch 38/50\n",
      "482/482 [==============================] - 0s 417us/step - loss: 1.5364e-04 - acc: 1.0000\n",
      "Epoch 39/50\n",
      "482/482 [==============================] - 0s 400us/step - loss: 2.6497e-04 - acc: 1.0000\n",
      "Epoch 40/50\n",
      "482/482 [==============================] - 0s 447us/step - loss: 1.2511e-04 - acc: 1.0000\n",
      "Epoch 41/50\n",
      "482/482 [==============================] - 0s 416us/step - loss: 0.0011 - acc: 1.0000\n",
      "Epoch 42/50\n",
      "482/482 [==============================] - 0s 462us/step - loss: 0.0012 - acc: 1.0000\n",
      "Epoch 43/50\n",
      "482/482 [==============================] - 0s 425us/step - loss: 0.0046 - acc: 0.9979\n",
      "Epoch 44/50\n",
      "482/482 [==============================] - 0s 393us/step - loss: 6.2274e-04 - acc: 1.0000\n",
      "Epoch 45/50\n",
      "482/482 [==============================] - 0s 389us/step - loss: 0.0044 - acc: 0.9979\n",
      "Epoch 46/50\n",
      "482/482 [==============================] - 0s 413us/step - loss: 0.0017 - acc: 1.0000\n",
      "Epoch 47/50\n",
      "482/482 [==============================] - 0s 462us/step - loss: 0.0042 - acc: 0.9979\n",
      "Epoch 48/50\n",
      "482/482 [==============================] - 0s 496us/step - loss: 9.3040e-04 - acc: 1.0000\n",
      "Epoch 49/50\n",
      "482/482 [==============================] - 0s 484us/step - loss: 0.0025 - acc: 1.0000\n",
      "Epoch 50/50\n",
      "482/482 [==============================] - 0s 432us/step - loss: 0.0049 - acc: 0.9979\n",
      "_________________________________________________________________\n",
      "Layer (type)                 Output Shape              Param #   \n",
      "=================================================================\n",
      "conv2d_4 (Conv2D)            (None, 28, 28, 32)        832       \n",
      "_________________________________________________________________\n",
      "max_pooling2d_4 (MaxPooling2 (None, 28, 6, 7)          0         \n",
      "_________________________________________________________________\n",
      "conv2d_5 (Conv2D)            (None, 28, 6, 50)         8800      \n",
      "_________________________________________________________________\n",
      "max_pooling2d_5 (MaxPooling2 (None, 28, 2, 10)         0         \n",
      "_________________________________________________________________\n",
      "conv2d_6 (Conv2D)            (None, 28, 2, 80)         20080     \n",
      "_________________________________________________________________\n",
      "max_pooling2d_6 (MaxPooling2 (None, 28, 1, 16)         0         \n",
      "_________________________________________________________________\n",
      "dropout_3 (Dropout)          (None, 28, 1, 16)         0         \n",
      "_________________________________________________________________\n",
      "flatten_2 (Flatten)          (None, 448)               0         \n",
      "_________________________________________________________________\n",
      "dense_3 (Dense)              (None, 512)               229888    \n",
      "_________________________________________________________________\n",
      "dropout_4 (Dropout)          (None, 512)               0         \n",
      "_________________________________________________________________\n",
      "dense_4 (Dense)              (None, 2)                 1026      \n",
      "=================================================================\n",
      "Total params: 260,626\n",
      "Trainable params: 260,626\n",
      "Non-trainable params: 0\n",
      "_________________________________________________________________\n"
     ]
    }
   ],
   "source": [
    "model = Sequential()\n",
    "\n",
    "model.add(InputLayer(input_shape=[28,28,1]))\n",
    "model.add(Conv2D(filters=32, kernel_size=5, strides=1, padding='same', activation='relu'))\n",
    "model.add(MaxPooling2D(pool_size=5, padding='same', dim_ordering=\"th\"))\n",
    "\n",
    "model.add(Conv2D(filters=50, kernel_size=5, strides=1, padding='same', activation='relu'))\n",
    "model.add(MaxPooling2D(pool_size=5, padding='same', dim_ordering=\"th\"))\n",
    "\n",
    "model.add(Conv2D(filters=80, kernel_size=5, strides=1, padding='same', activation='relu'))\n",
    "model.add(MaxPooling2D(pool_size=5, padding='same', dim_ordering=\"th\"))\n",
    "\n",
    "model.add(Dropout(0.25))\n",
    "model.add(Flatten())  # this converts our 3D feature maps to 1D feature vectors\n",
    "model.add(Dense(512, activation='relu'))\n",
    "model.add(Dropout(rate=0.5))\n",
    "model.add(Dense(2, activation='softmax'))\n",
    "optimizer = Adam(lr=1e-3)\n",
    "\n",
    "model.compile(optimizer=optimizer, loss='categorical_crossentropy', metrics=['accuracy'])\n",
    "model.fit(x=tr_img_data, y= tr_lbl_data, epochs=50, batch_size=100)\n",
    "model.summary()"
   ]
  },
  {
   "cell_type": "code",
   "execution_count": 32,
   "metadata": {
    "scrolled": true
   },
   "outputs": [
    {
     "data": {
      "image/png": "[encoded data removed]",
      "text/plain": [
       "<Figure size 1008x1008 with 16 Axes>"
      ]
     },
     "metadata": {},
     "output_type": "display_data"
    }
   ],
   "source": [
    "fig = plt.figure(figsize=(14,14))\n",
    "\n",
    "for cnt, data in enumerate(testing_images[0:]):\n",
    "    y = fig.add_subplot(6,5, cnt+1)\n",
    "    img = data[0]\n",
    "    data = img.reshape(1,28,28,1)\n",
    "    model_out = model.predict([data])\n",
    "    \n",
    "    if np.argmax(model_out)==1:\n",
    "        str_label = '0'\n",
    "    else:\n",
    "        str_label = '1'\n",
    "        \n",
    "    y.imshow(img, cmap='gray')\n",
    "    plt.title(str_label)\n",
    "    y.axes.get_xaxis().set_visible(False)\n",
    "    y.axes.get_yaxis().set_visible(False)"
   ]
  },
  {
   "cell_type": "code",
   "execution_count": 33,
   "metadata": {},
   "outputs": [],
   "source": [
    "model.save('happy.h5')\n",
    "del model"
   ]
  },
  {
   "cell_type": "code",
   "execution_count": null,
   "metadata": {},
   "outputs": [],
   "source": []
  }
 ],
 "metadata": {
  "kernelspec": {
   "display_name": "Python 3",
   "language": "python",
   "name": "python3"
  },
  "language_info": {
   "codemirror_mode": {
    "name": "ipython",
    "version": 3
   },
   "file_extension": ".py",
   "mimetype": "text/x-python",
   "name": "python",
   "nbconvert_exporter": "python",
   "pygments_lexer": "ipython3",
   "version": "3.5.5"
  }
 },
 "nbformat": 4,
 "nbformat_minor": 2
}
